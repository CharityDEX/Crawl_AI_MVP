{
 "cells": [
  {
   "cell_type": "code",
   "execution_count": 1,
   "metadata": {},
   "outputs": [],
   "source": [
    "from dotenv import load_dotenv\n",
    "import os\n",
    "load_dotenv()\n",
    "QDRANT_API_KEY = os.environ[\"QDRANT_API_KEY\"]\n",
    "QDRANT_COLLECTION_NAME = \"crawlai\"\n",
    "QDRANT_ENDPOINT = \"https://78440471-16dc-4da1-8f1d-3ec406c0417c.us-east4-0.gcp.cloud.qdrant.io:6333\"\n",
    "GRADIO_PORT = 8080"
   ]
  },
  {
   "cell_type": "code",
   "execution_count": 75,
   "metadata": {},
   "outputs": [],
   "source": [
    "from typing import Annotated\n",
    "from langchain_openai import ChatOpenAI\n",
    "from typing_extensions import TypedDict\n",
    "from langchain_qdrant import QdrantVectorStore\n",
    "from langgraph.graph import StateGraph, START, END\n",
    "from langgraph.graph.message import add_messages\n",
    "from langchain_core.messages import AnyMessage, SystemMessage\n",
    "from langgraph.checkpoint.memory import MemorySaver\n",
    "from langchain_core.prompts import ChatPromptTemplate, MessagesPlaceholder\n",
    "from langchain_openai import OpenAI\n",
    "from langchain_core.output_parsers.string import StrOutputParser\n",
    "from googlesearch import search\n",
    "import re\n",
    "import lxml\n",
    "from bs4 import BeautifulSoup\n",
    "from langchain_community.document_loaders import RecursiveUrlLoader\n",
    "from typing import Union\n",
    "import requests\n",
    "import aiohttp\n",
    "from langchain_text_splitters import RecursiveCharacterTextSplitter\n",
    "from langchain_openai import OpenAIEmbeddings\n",
    "from langchain_community.vectorstores.utils import filter_complex_metadata\n",
    "from langchain_openai import OpenAI\n",
    "from langchain_qdrant import QdrantVectorStore\n",
    "from langchain.chains import create_history_aware_retriever\n",
    "from langchain_core.prompts import ChatPromptTemplate, MessagesPlaceholder\n",
    "from langchain.chains.combine_documents import create_stuff_documents_chain\n",
    "from langchain.chains import create_retrieval_chain\n",
    "from langchain_core.messages import AIMessage, HumanMessage, SystemMessage\n",
    "import gradio as gr\n",
    "from gradio import ChatMessage"
   ]
  },
  {
   "cell_type": "code",
   "execution_count": 76,
   "metadata": {},
   "outputs": [
    {
     "name": "stdout",
     "output_type": "stream",
     "text": [
      "created search gen llm\n",
      "created chains\n"
     ]
    }
   ],
   "source": [
    "gen_searches_sys_prompt = (\n",
    "    \"\"\"\n",
    "    You are a specialized AI Assistant helping a user create an LLM agent for them to use.\n",
    "    The user is presumably non technical. Given the user request, consider which web searches would yield\n",
    "    the most relevant information to add to the vector store of the user's new agent. Do NOT answer the\n",
    "    user's request, just create three web search queries based on it to help populate the vector store with data.\n",
    "    Make the three requests relatively varied, each of the requests will have the top website result fully scraped so\n",
    "    you should make them varied to grab a wide range of information. Output three strings of the search requests separated\n",
    "    by new lines.\n",
    "\n",
    "    Here is an example (Do NOT use this directly):\n",
    "    Question:\n",
    "    Human: help me make assistant to apply to santa clara university\n",
    "    \n",
    "    Three Web Searches (separated by new lines):\n",
    "    santa clara university main website\n",
    "    \\n\n",
    "    applying to santa clara university\n",
    "    \\n\n",
    "    santa clara university application requirements\n",
    "\n",
    "    \\n\\n\n",
    "    Question:\n",
    "    \"\"\"\n",
    ")\n",
    "\n",
    "gen_searches_prompt = ChatPromptTemplate.from_messages(\n",
    "    [\n",
    "        (\"system\", gen_searches_sys_prompt),\n",
    "        (\"human\", \"{input}\"),\n",
    "        (\"system\", \"\\nThree Web Searches (separated by new lines):\")\n",
    "    ]\n",
    ")\n",
    "\n",
    "gen_searches_llm = OpenAI(temperature=0)\n",
    "gen_searches_chain = gen_searches_prompt | gen_searches_llm | StrOutputParser()\n",
    "\n",
    "print(\"created search gen llm\")\n",
    "\n",
    "def get_top_google_results(query, num_results=1):\n",
    "    # Perform the search and return the top links\n",
    "    return [link for link in search(query, num_results=num_results)]\n",
    "\n",
    "def bs4_extractor(html: str) -> str:\n",
    "    soup = BeautifulSoup(html, \"lxml\")\n",
    "    return re.sub(r\"\\n\\n+\", \"\\n\\n\", soup.text).strip()\n",
    "\n",
    "def simple_metadata_extractor(raw_html: str, url: str, response: Union[requests.Response, aiohttp.ClientResponse]) -> dict:\n",
    "    # Extract metadata from the response\n",
    "    content_type = getattr(response, \"headers\").get(\"Content-Type\", \"\")\n",
    "    print(f\"Loading: {url}  Content-Type: {content_type}\")\n",
    "    return {\"source\": url, \"content_type\": content_type}\n",
    "\n",
    "text_splitter = RecursiveCharacterTextSplitter(\n",
    "    chunk_size=500,\n",
    "    chunk_overlap=100\n",
    ")\n",
    "\n",
    "embeddings_model = OpenAIEmbeddings(model=\"text-embedding-3-small\")\n",
    "\n",
    "rephraser_llm = OpenAI(temperature=0)\n",
    "\n",
    "main_llm = OpenAI()\n",
    "\n",
    "print(\"created chains\")"
   ]
  },
  {
   "cell_type": "code",
   "execution_count": 131,
   "metadata": {},
   "outputs": [],
   "source": [
    "class GraphState(TypedDict):\n",
    "    contextualized_question: str\n",
    "    documents: list[str]\n",
    "    messages: Annotated[list[AnyMessage], add_messages]"
   ]
  },
  {
   "cell_type": "code",
   "execution_count": 132,
   "metadata": {},
   "outputs": [
    {
     "name": "stdout",
     "output_type": "stream",
     "text": [
      "found links\n",
      "Loading: https://www.quora.com/How-do-I-ride-bike-like-a-professional-racer  Content-Type: text/html; charset=utf-8\n"
     ]
    },
    {
     "name": "stderr",
     "output_type": "stream",
     "text": [
      "Unable to load from https://www.pedalsure.com/blog/7-advanced-skills-for-cyclists-to-master. Received error HTTPSConnectionPool(host='www.pedalsure.com', port=443): Max retries exceeded with url: /blog/7-advanced-skills-for-cyclists-to-master (Caused by SSLError(SSLCertVerificationError(1, '[SSL: CERTIFICATE_VERIFY_FAILED] certificate verify failed: unable to get local issuer certificate (_ssl.c:1020)'))) of type SSLError\n"
     ]
    },
    {
     "name": "stdout",
     "output_type": "stream",
     "text": [
      "Loading: https://www.wikihow.com/Become-a-Professional-Cyclist  Content-Type: text/html; charset=UTF-8\n",
      "loading vectorstore\n",
      "loaded vectorstore\n"
     ]
    }
   ],
   "source": [
    "\n",
    "searches = gen_searches_chain.invoke(\"teach me how to bike like a pro\")\n",
    "\n",
    "lines = [line for line in searches.split('\\n') if line.strip()]\n",
    "\n",
    "print(\"found links\")\n",
    "\n",
    "links = []\n",
    "for line in lines:\n",
    "    links.extend(get_top_google_results(line))\n",
    "\n",
    "docs = []\n",
    "for link in links:\n",
    "    if link.startswith(\"https://github.com/\") or link.startswith(\"http://github.com/\"):\n",
    "        continue\n",
    "    loader = RecursiveUrlLoader(link, extractor=bs4_extractor, metadata_extractor=simple_metadata_extractor, max_depth=3)\n",
    "    docs.extend(loader.load())\n",
    "\n",
    "splits = text_splitter.split_documents(docs)\n",
    "splits = filter_complex_metadata(splits)\n",
    "\n",
    "print(\"loading vectorstore\")\n",
    "#vector_store = Chroma.from_documents(splits, embeddings_model)\n",
    "\n",
    "vector_store = QdrantVectorStore.from_documents(\n",
    "    documents=splits,\n",
    "    embedding=embeddings_model,\n",
    "    url=QDRANT_ENDPOINT,\n",
    "    collection_name=QDRANT_COLLECTION_NAME,\n",
    "    api_key=QDRANT_API_KEY\n",
    ")\n",
    "\n",
    "print(\"loaded vectorstore\")"
   ]
  },
  {
   "cell_type": "code",
   "execution_count": 133,
   "metadata": {},
   "outputs": [],
   "source": [
    "# CONTEXTUALIZER\n",
    "\n",
    "contextualize_q_sys_prompt = (\n",
    "    \"\"\"\n",
    "    You are a specialized AI Assistant. Given a chat history and the latest user question which might reference context in the chat history, \n",
    "    formulate a standalone question which can be understood \n",
    "    without the chat history. Do NOT answer the question, just \n",
    "    reformulate it if needed and otherwise return it as is.\n",
    "    Do NOT preceed your answer with any tags like System: or AI:.\n",
    "\n",
    "    Here is an example:\n",
    "    HISTORY:\n",
    "    Human: what is an LLM?\n",
    "    AI: an LLM is a large language model, a type of transformer machine learning algorithm used to interpret images and speech.\n",
    "    \\n\n",
    "    QUESTION:\n",
    "    Human: how do I make it?\n",
    "    \\n\n",
    "    REPHRASED CONTEXTUALIZED QUESTION:\n",
    "    How do I create an LLM transformer?\n",
    "    \\n\\n\n",
    "    HISTORY:\n",
    "    \\n\n",
    "    \"\"\"\n",
    ")\n",
    "contextualize_q_prompt = ChatPromptTemplate.from_messages([\n",
    "        (\"system\", contextualize_q_sys_prompt),\n",
    "        MessagesPlaceholder(\"chat_history\"),\n",
    "        (\"system\", \"\\nQUESTION:\"),\n",
    "        (\"human\", \"{question}\"),\n",
    "        (\"system\", \"\\nREPHRASED CONTEXTUALIZED QUESTION:\")\n",
    "    ]\n",
    ")\n",
    "\n",
    "# Contextualizer Node: contextualize the user question using the message history\n",
    "def contextualizer(state: GraphState):\n",
    "    chat_history = state[\"messages\"][:-1]\n",
    "    input_question = state[\"messages\"][-1]\n",
    "\n",
    "    prompt = contextualize_q_prompt.invoke({\"chat_history\": chat_history, \"question\": input_question})\n",
    "\n",
    "    result_question = rephraser_llm.invoke(prompt)\n",
    "    return {\"contextualized_question\": result_question}"
   ]
  },
  {
   "cell_type": "code",
   "execution_count": 134,
   "metadata": {},
   "outputs": [],
   "source": [
    "# RETRIEVER\n",
    "retriever = vector_store.as_retriever(search_type=\"mmr\", search_kwargs={\"k\": 30, \"fetch_k\": 10, \"lambda_mult\": 0.5})\n",
    "\n",
    "# Document Retriever Node: updates the documents list with relevant docs for the contextualized question\n",
    "def document_retriever(state: GraphState):\n",
    "    contextualized_question = state[\"contextualized_question\"]\n",
    "    docs = retriever.invoke(contextualized_question)\n",
    "    return {\"documents\": docs}"
   ]
  },
  {
   "cell_type": "code",
   "execution_count": 135,
   "metadata": {},
   "outputs": [],
   "source": [
    "# GENERATOR\n",
    "qa_sys_prompt = (\n",
    "    \"\"\"\n",
    "    You are an assistant for question-answering tasks with retrieval augmented generation.\n",
    "    Use the following pieces of retrieved context and the history of your interactions\n",
    "    with the human to answer the question. If you don't know the answer, say that you\n",
    "    don't know! Do not provide information if it is\n",
    "    not in the context. Be descriptive. Do not complete or further generate the\n",
    "    user's question. Do not refer to the context or history of interaction, do not use phrases like\n",
    "    \"according to the context\" or \"from the given documents\". Do not refer to the context!\n",
    "    \\n\\n\n",
    "    CONTEXT:\n",
    "    \"\"\"\n",
    ")\n",
    "\n",
    "qa_prompt = ChatPromptTemplate.from_messages(\n",
    "    [\n",
    "        (\"system\", qa_sys_prompt),\n",
    "        (\"human\", \"{context_documents}\"),\n",
    "        (\"system\", \"\\nCHAT HISTORY:\"),\n",
    "        MessagesPlaceholder(\"chat_history\"),\n",
    "        (\"system\", \"\\nQUESTION:\"),\n",
    "        (\"human\", \"{question}\"),\n",
    "        (\"system\", \"\\nANSWER:\")\n",
    "    ]\n",
    ")\n",
    "\n",
    "# Generator Node: use documents and message history to answer the question\n",
    "def answer_generator(state: GraphState):\n",
    "    docs = state[\"documents\"]\n",
    "    partial_history = state[\"messages\"][:-1]\n",
    "    question = state[\"messages\"][-1]\n",
    "\n",
    "    prompt = qa_prompt.invoke({\"context_documents\": docs, \"chat_history\": partial_history, \"question\": question})\n",
    "\n",
    "    answer = main_llm.invoke(prompt)\n",
    "\n",
    "    updated_history = state[\"messages\"]\n",
    "    updated_history.append(AIMessage(content=answer))\n",
    "\n",
    "    return {\"messages\": updated_history}"
   ]
  },
  {
   "cell_type": "code",
   "execution_count": 136,
   "metadata": {},
   "outputs": [],
   "source": [
    "test_state = GraphState()\n",
    "\n",
    "msgs = []\n",
    "msgs.append(HumanMessage(content=\"hello, who is the chair of the computer science department?\"))\n",
    "msgs.append(AIMessage(content=\"The chair of the department is Silvia Figueira.\"))\n",
    "msgs.append(HumanMessage(content=\"does Silvia Figueira, the chair of the department, have any research?\"))\n",
    "test_state[\"messages\"] = msgs\n",
    "\n",
    "docs = []\n",
    "docs.append(\"Silvia Figueira is known for researching renewable energy sources.\")\n",
    "docs.append(\"Another promising project pursued by Santa Clara University is neural network heartrate monitor optimizations. Some of the contributors to this project are John Lee, Mark Fran and Silvia Figueira.\")\n",
    "docs.append(\"Santa clara university: nominated for Green Lives award in 2023 for renewable energy research by their professors.\")\n",
    "test_state[\"documents\"] = docs"
   ]
  },
  {
   "cell_type": "code",
   "execution_count": 59,
   "metadata": {},
   "outputs": [
    {
     "data": {
      "text/plain": [
       "{'messages': [HumanMessage(content='hello, who is the chair of the computer science department?', additional_kwargs={}, response_metadata={}),\n",
       "  AIMessage(content='The chair of the department is Silvia Figueira.', additional_kwargs={}, response_metadata={}),\n",
       "  HumanMessage(content='does Silvia Figueira, the chair of the department, have any research?', additional_kwargs={}, response_metadata={})],\n",
       " 'documents': ['Silvia Figueira is known for researching renewable energy sources.',\n",
       "  'Another promising project pursued by Santa Clara University is neural network heartrate monitor optimizations. Some of the contributors to this project are John Lee, Mark Fran and Silvia Figueira.',\n",
       "  'Santa clara university: nominated for Green Lives award in 2023 for renewable energy research by their professors.']}"
      ]
     },
     "execution_count": 59,
     "metadata": {},
     "output_type": "execute_result"
    }
   ],
   "source": [
    "test_state"
   ]
  },
  {
   "cell_type": "code",
   "execution_count": 60,
   "metadata": {},
   "outputs": [
    {
     "name": "stdout",
     "output_type": "stream",
     "text": [
      "<class 'str'>\n"
     ]
    },
    {
     "data": {
      "text/plain": [
       "{'messages': [HumanMessage(content='hello, who is the chair of the computer science department?', additional_kwargs={}, response_metadata={}),\n",
       "  AIMessage(content='The chair of the department is Silvia Figueira.', additional_kwargs={}, response_metadata={}),\n",
       "  HumanMessage(content='does Silvia Figueira, the chair of the department, have any research?', additional_kwargs={}, response_metadata={}),\n",
       "  AIMessage(content=' Yes, as mentioned earlier, Silvia Figueira is known for researching renewable energy sources and is a contributor to the neural network heartrate monitor optimizations project at Santa Clara University.', additional_kwargs={}, response_metadata={})]}"
      ]
     },
     "execution_count": 60,
     "metadata": {},
     "output_type": "execute_result"
    }
   ],
   "source": [
    "answer_generator(test_state)"
   ]
  },
  {
   "cell_type": "code",
   "execution_count": 61,
   "metadata": {},
   "outputs": [
    {
     "data": {
      "text/plain": [
       "{'messages': [HumanMessage(content='hello, who is the chair of the computer science department?', additional_kwargs={}, response_metadata={}),\n",
       "  AIMessage(content='The chair of the department is Silvia Figueira.', additional_kwargs={}, response_metadata={}),\n",
       "  HumanMessage(content='does Silvia Figueira, the chair of the department, have any research?', additional_kwargs={}, response_metadata={}),\n",
       "  AIMessage(content=' Yes, as mentioned earlier, Silvia Figueira is known for researching renewable energy sources and is a contributor to the neural network heartrate monitor optimizations project at Santa Clara University.', additional_kwargs={}, response_metadata={})],\n",
       " 'documents': ['Silvia Figueira is known for researching renewable energy sources.',\n",
       "  'Another promising project pursued by Santa Clara University is neural network heartrate monitor optimizations. Some of the contributors to this project are John Lee, Mark Fran and Silvia Figueira.',\n",
       "  'Santa clara university: nominated for Green Lives award in 2023 for renewable energy research by their professors.']}"
      ]
     },
     "execution_count": 61,
     "metadata": {},
     "output_type": "execute_result"
    }
   ],
   "source": [
    "test_state"
   ]
  },
  {
   "cell_type": "code",
   "execution_count": 31,
   "metadata": {},
   "outputs": [
    {
     "data": {
      "text/plain": [
       "{'documents': [Document(metadata={'source': 'https://www.wikihow.com/Swim-the-Butterfly-Stroke', 'content_type': 'text/html; charset=UTF-8', '_id': '35a0eca1-f459-4e2f-bc22-bf5827a5ddd8', '_collection_name': 'crawlai'}, page_content='The butterfly stroke is one of the most difficult swimming strokes. It is sometimes referred to as \"Fly\" for short. Although it is the second fastest stroke when done properly by a skilled athlete, it requires a very exact technique, strength and rhythm.  It does requires a lot of practice to perfect it, but when you have it right, it is one of the most rewarding, respected and aesthetically pleasing swimming styles currently used in competition. Being able to execute a good butterfly stroke is'),\n",
       "  Document(metadata={'source': 'https://www.wikihow.com/Swim-Faster', 'content_type': 'text/html; charset=UTF-8', '_id': 'eb96715c-8d31-47af-ae29-cfeb90730eaf', '_collection_name': 'crawlai'}, page_content='This is a bit different when it comes to the breaststroke and butterfly stroke, because your body undulates instead of being perfectly balanced during the strokes.\\n\\nAdvertisement'),\n",
       "  Document(metadata={'source': 'https://www.wikihow.com/Swim-the-Butterfly-Stroke', 'content_type': 'text/html; charset=UTF-8', '_id': '401fe2b7-1243-4f82-a396-d394dc607b5a', '_collection_name': 'crawlai'}, page_content=\"How toPrevent Breaststroke Swimmer's Knee\\n\\nAdvertisement\\n\\nReferences\\n\\n↑ https://www.yourswimlog.com/butterfly-stroke/\\n\\n↑ https://www.enjoy-swimming.com/butterfly-technique.html\\n\\n↑ https://www.swim-teach.com/butterfly-stroke-swimming-steps.html\\n\\n↑ https://www.enjoy-swimming.com/dolphin-kick-technique.html\\n\\n↑ https://www.youtube.com/watch?v=riIyImmuB_M\\n\\n↑ https://www.swim-teach.com/butterfly-stroke-swimming-steps.html\\n\\n↑ https://www.enjoy-swimming.com/swimming-butterfly.html\"),\n",
       "  Document(metadata={'source': 'https://www.wikihow.com/Swim-the-Butterfly-Stroke', 'content_type': 'text/html; charset=UTF-8', '_id': '462074af-8be1-4414-b59e-837a90850490', '_collection_name': 'crawlai'}, page_content='Use a coach. Learning butterfly stroke just by reading about it will not work any more than reading a book will teach you to ride a bike. A swim coach can walk you through the stroke in more detail. A coach will also be able to observe you while you swim and pick out any flaws in your technique -- in this way, a knowledgeable outside perspective could be invaluable in helping you to improve your butterfly.'),\n",
       "  Document(metadata={'source': 'https://www.wikihow.com/Swim-the-Butterfly-Stroke', 'content_type': 'text/html; charset=UTF-8', '_id': '6fad47ca-bbc3-4b90-82bc-895e76ec823b', '_collection_name': 'crawlai'}, page_content='wikiHow is where trusted research and expert knowledge come together. Learn why people trust wikiHow\\n\\nCategoriesSports and FitnessIndividual SportsSwimmingSwimming StrokesHow to Swim the Butterfly Stroke\\n\\nDownload Article\\n\\nExplore this Article\\n\\nparts\\n\\n1\\n\\t\\t\\t\\t\\tPerfecting the Stroke\\n\\t\\t\\t\\t\\t\\n\\t\\t\\t\\t\\n\\n2\\n\\t\\t\\t\\t\\tUsing Practice Drills\\n\\t\\t\\t\\t\\t\\n\\t\\t\\t\\t\\n\\n\\t\\t\\t\\t\\t\\nWhat Is The Relation Between Hand Movement And Leg Movement In Butterfly?\\n\\t\\t\\t\\t\\t\\n\\t\\t\\t\\t\\n\\nOther Sections\\n\\n\\t\\t\\t\\t\\t\\tExpert Q&A\\n\\t\\t\\t\\t\\t\\t\\n\\t\\t\\t\\t\\t\\n\\n\\t\\t\\t\\t\\t\\tVideo'),\n",
       "  Document(metadata={'source': 'https://www.wikihow.com/Swim-the-Butterfly-Stroke', 'content_type': 'text/html; charset=UTF-8', '_id': 'a1e8fb3d-e4ab-4015-9998-cc528d99c27a', '_collection_name': 'crawlai'}, page_content='4\\nKnow when to breathe. Breathing during butterfly stoke can be a little tricky, as it has to be perfectly timed and completed pretty quickly.\\n\\nThe correct point to take a breath during butterfly stroke is when your arms are just coming out of the water at the beginning of the recovery phase.[7]\\nX\\nResearch source'),\n",
       "  Document(metadata={'source': 'https://www.wikihow.com/Swim-the-Butterfly-Stroke', 'content_type': 'text/html; charset=UTF-8', '_id': 'f3160713-92b8-4e4e-ae6e-06e38e61d254', '_collection_name': 'crawlai'}, page_content='However, bear in mind that this is a tough stroke to perfect and it will take time and practice before you are able to synchronize all of these movements and swim the butterfly stroke correctly.\\nLearn good technique. Incorrect butterfly technique can lead to problems in certain muscles and joints, such as the rotatory cuffs in the shoulders if done for long periods of time. It will also make the butterfly stroke harder than it actually is.'),\n",
       "  Document(metadata={'source': 'https://www.wikihow.com/Swim-the-Butterfly-Stroke', 'content_type': 'text/html; charset=UTF-8', '_id': 'bdaead5b-f03a-4d4d-b736-7dcf8fc661fc', '_collection_name': 'crawlai'}, page_content='swimming styles currently used in competition. Being able to execute a good butterfly stroke is the hallmark of a true competitive swimmer.[1]'),\n",
       "  Document(metadata={'source': 'https://www.wikihow.com/Swim-the-Butterfly-Stroke', 'content_type': 'text/html; charset=UTF-8', '_id': '3b920621-f08a-4457-95dc-16ac7db59f7c', '_collection_name': 'crawlai'}, page_content=\"Article SummaryXTo swim the butterfly stroke, start by extending your arms above your head so they're shoulder-width apart. Then, with your palms facing outward, pull your hands toward your body in a semicircular motion. Next, quickly push your palms back through the water past your sides and hips, which will help propel you forward. Finally, sweep both of your arms out of the water and throw them forward so you're back in the starting position. To learn how to perfect the butterfly stroke so\"),\n",
       "  Document(metadata={'source': 'https://www.wikihow.com/Swim-the-Butterfly-Stroke', 'content_type': 'text/html; charset=UTF-8', '_id': 'a80da76b-e045-4618-819b-661405a488bd', '_collection_name': 'crawlai'}, page_content='If you can get your timing right and manage to synchronize your body movement with your arms and leg strokes, you will find the butterfly much easier to master. You will be able to swim faster and find yourself getting tired less easily.[6]\\nX\\nResearch source')]}"
      ]
     },
     "execution_count": 31,
     "metadata": {},
     "output_type": "execute_result"
    }
   ],
   "source": [
    "document_retriever(test_state)"
   ]
  },
  {
   "cell_type": "code",
   "execution_count": 137,
   "metadata": {},
   "outputs": [],
   "source": [
    "def create_rag_graph():\n",
    "\n",
    "    graph_builder = StateGraph(GraphState)\n",
    "    graph_builder.add_node(\"contextualizer\", contextualizer)\n",
    "    graph_builder.add_node(\"document_retriever\", document_retriever)\n",
    "    graph_builder.add_node(\"answer_generator\", answer_generator)\n",
    "\n",
    "    graph_builder.add_edge(START, \"contextualizer\")\n",
    "    graph_builder.add_edge(\"contextualizer\", \"document_retriever\")\n",
    "    graph_builder.add_edge(\"document_retriever\", \"answer_generator\")\n",
    "    graph_builder.add_edge(\"answer_generator\", END)\n",
    "\n",
    "    memory = MemorySaver()\n",
    "    graph = graph_builder.compile(checkpointer=memory)\n",
    "    return graph"
   ]
  },
  {
   "cell_type": "code",
   "execution_count": 138,
   "metadata": {},
   "outputs": [],
   "source": [
    "graph = create_rag_graph()"
   ]
  },
  {
   "cell_type": "code",
   "execution_count": 139,
   "metadata": {},
   "outputs": [
    {
     "data": {
      "image/jpeg": "[encoded data removed]",
      "text/plain": [
       "<IPython.core.display.Image object>"
      ]
     },
     "metadata": {},
     "output_type": "display_data"
    }
   ],
   "source": [
    "from IPython.display import Image, display\n",
    "display(Image(graph.get_graph(xray=True).draw_mermaid_png()))"
   ]
  },
  {
   "cell_type": "code",
   "execution_count": 140,
   "metadata": {},
   "outputs": [],
   "source": [
    "def ask_question(message, user_id):\n",
    "    config = {\"configurable\": {\"thread_id\": user_id}}\n",
    "    input = {\"messages\": [HumanMessage(content=message)]}\n",
    "    final_state = graph.invoke(input, config=config)\n",
    "    return final_state[\"messages\"][-1]"
   ]
  },
  {
   "cell_type": "code",
   "execution_count": 142,
   "metadata": {},
   "outputs": [
    {
     "data": {
      "text/plain": [
       "AIMessage(content=\"\\nThe steps to mastering countersteering include learning to influence your bike's trajectory with deliberate pressure at the handlebars, focusing on the fundamentals, practicing and developing heightened awareness, and using smooth and controlled motions. Additionally, you can also try out advanced methods that work in tandem with countersteering to further refine your control and bolster your confidence.\", additional_kwargs={}, response_metadata={}, id='16216bf0-62a5-40ce-a1f3-6ba8d63737dd')"
      ]
     },
     "execution_count": 142,
     "metadata": {},
     "output_type": "execute_result"
    }
   ],
   "source": [
    "ask_question(\"what are the steps to do that?\", 1)"
   ]
  },
  {
   "cell_type": "code",
   "execution_count": 122,
   "metadata": {},
   "outputs": [
    {
     "name": "stdout",
     "output_type": "stream",
     "text": [
      "content='\\nIn crochet, a hook is a tool used to create crocheted items. It is usually made of metal, plastic, or wood and has a curved or pointed end to catch and pull yarn through loops. Hooks come in different sizes to accommodate different yarn thicknesses and can also have different handles to cater to different holding styles.' additional_kwargs={} response_metadata={} id='b51a5684-2a95-4688-9aca-61c391b007ee'\n",
      "content='\\nCrochet hooks can be made out of various materials such as metal, plastic, and wood.' additional_kwargs={} response_metadata={} id='af95ecf0-6573-4f65-a15d-5f16f1cf5e51'\n",
      "content=' \\n\\nIt depends on your personal preference and the type of project you are working on. Some people prefer plastic or wood hooks for their lighter weight, while others prefer metal hooks for their durability and smoothness. It is recommended to try out different types of hooks and see which one feels most comfortable for you. ' additional_kwargs={} response_metadata={} id='a9e0c14d-5e84-4f6e-901b-9325440ff57f'\n"
     ]
    }
   ],
   "source": [
    "config = {\"configurable\": {\"thread_id\": 1}}\n",
    "print(graph.invoke({\"messages\": [HumanMessage(content=\"Hello, what is a hook in crochet?\")]}, config=config)[\"messages\"][-1])\n",
    "print(graph.invoke({\"messages\": [HumanMessage(content=\"What is it made out of?\")]}, config=config)[\"messages\"][-1])\n",
    "print(graph.invoke({\"messages\": [HumanMessage(content=\"Which one should I use?\")]}, config=config)[\"messages\"][-1])"
   ]
  },
  {
   "cell_type": "code",
   "execution_count": 107,
   "metadata": {},
   "outputs": [
    {
     "name": "stdout",
     "output_type": "stream",
     "text": [
      "messages=[SystemMessage(content='\\n    You are a specialized AI Assistant. Given a chat history and the latest user question which might reference context in the chat history, \\n    formulate a standalone question which can be understood \\n    without the chat history. Do NOT answer the question, just \\n    reformulate it if needed and otherwise return it as is.\\n    Do NOT preceed your answer with any tags like System: or AI:.\\n\\n    Here is an example:\\n    HISTORY:\\n    Human: what is an LLM?\\n    AI: an LLM is a large language model, a type of transformer machine learning algorithm used to interpret images and speech.\\n    \\n\\n    QUESTION:\\n    Human: how do I make it?\\n    \\n\\n    REPHRASED CONTEXTUALIZED QUESTION:\\n    How do I create an LLM transformer?\\n    \\n\\n\\n    HISTORY:\\n    \\n\\n    ', additional_kwargs={}, response_metadata={}), SystemMessage(content='\\nQUESTION:', additional_kwargs={}, response_metadata={}), HumanMessage(content=\"content='Hello, what is a hook in crochet?' additional_kwargs={} response_metadata={} id='2dca07e4-7dcd-426e-a6a7-c10490950763'\", additional_kwargs={}, response_metadata={}), SystemMessage(content='\\nREPHRASED CONTEXTUALIZED QUESTION:', additional_kwargs={}, response_metadata={})]\n",
      "helooo\n",
      "<class 'str'>\n",
      "content=' A hook is a tool used in crochet.' additional_kwargs={} response_metadata={} id='28f8da40-2ac0-4b1d-8ba4-9c9fecb63218'\n",
      "messages=[SystemMessage(content='\\n    You are a specialized AI Assistant. Given a chat history and the latest user question which might reference context in the chat history, \\n    formulate a standalone question which can be understood \\n    without the chat history. Do NOT answer the question, just \\n    reformulate it if needed and otherwise return it as is.\\n    Do NOT preceed your answer with any tags like System: or AI:.\\n\\n    Here is an example:\\n    HISTORY:\\n    Human: what is an LLM?\\n    AI: an LLM is a large language model, a type of transformer machine learning algorithm used to interpret images and speech.\\n    \\n\\n    QUESTION:\\n    Human: how do I make it?\\n    \\n\\n    REPHRASED CONTEXTUALIZED QUESTION:\\n    How do I create an LLM transformer?\\n    \\n\\n\\n    HISTORY:\\n    \\n\\n    ', additional_kwargs={}, response_metadata={}), HumanMessage(content='Hello, what is a hook in crochet?', additional_kwargs={}, response_metadata={}, id='2dca07e4-7dcd-426e-a6a7-c10490950763'), AIMessage(content=' A hook is a tool used in crochet.', additional_kwargs={}, response_metadata={}, id='28f8da40-2ac0-4b1d-8ba4-9c9fecb63218'), SystemMessage(content='\\nQUESTION:', additional_kwargs={}, response_metadata={}), HumanMessage(content=\"content='what is it usually made out of?' additional_kwargs={} response_metadata={} id='65c34920-fefe-4831-a72e-60f065366934'\", additional_kwargs={}, response_metadata={}), SystemMessage(content='\\nREPHRASED CONTEXTUALIZED QUESTION:', additional_kwargs={}, response_metadata={})]\n",
      "helooo\n",
      "<class 'str'>\n",
      "content='\\nUsually, crochet hooks are made out of metal, plastic, or bamboo. However, there are also wooden and ergonomic hooks available in the market. The material of the hook can affect the tension and grip of your yarn, so it is important to choose one that feels comfortable for you.' additional_kwargs={} response_metadata={} id='2d0fcb63-f5d5-46ad-8f35-d12c6bc1f7a8'\n",
      "messages=[SystemMessage(content='\\n    You are a specialized AI Assistant. Given a chat history and the latest user question which might reference context in the chat history, \\n    formulate a standalone question which can be understood \\n    without the chat history. Do NOT answer the question, just \\n    reformulate it if needed and otherwise return it as is.\\n    Do NOT preceed your answer with any tags like System: or AI:.\\n\\n    Here is an example:\\n    HISTORY:\\n    Human: what is an LLM?\\n    AI: an LLM is a large language model, a type of transformer machine learning algorithm used to interpret images and speech.\\n    \\n\\n    QUESTION:\\n    Human: how do I make it?\\n    \\n\\n    REPHRASED CONTEXTUALIZED QUESTION:\\n    How do I create an LLM transformer?\\n    \\n\\n\\n    HISTORY:\\n    \\n\\n    ', additional_kwargs={}, response_metadata={}), HumanMessage(content='Hello, what is a hook in crochet?', additional_kwargs={}, response_metadata={}, id='2dca07e4-7dcd-426e-a6a7-c10490950763'), AIMessage(content=' A hook is a tool used in crochet.', additional_kwargs={}, response_metadata={}, id='28f8da40-2ac0-4b1d-8ba4-9c9fecb63218'), HumanMessage(content='what is it usually made out of?', additional_kwargs={}, response_metadata={}, id='65c34920-fefe-4831-a72e-60f065366934'), AIMessage(content='\\nUsually, crochet hooks are made out of metal, plastic, or bamboo. However, there are also wooden and ergonomic hooks available in the market. The material of the hook can affect the tension and grip of your yarn, so it is important to choose one that feels comfortable for you.', additional_kwargs={}, response_metadata={}, id='2d0fcb63-f5d5-46ad-8f35-d12c6bc1f7a8'), SystemMessage(content='\\nQUESTION:', additional_kwargs={}, response_metadata={}), HumanMessage(content=\"content='which material should I choose?' additional_kwargs={} response_metadata={} id='7a89827d-eaac-4eed-98d2-ca63aacf811e'\", additional_kwargs={}, response_metadata={}), SystemMessage(content='\\nREPHRASED CONTEXTUALIZED QUESTION:', additional_kwargs={}, response_metadata={})]\n",
      "helooo\n",
      "<class 'str'>\n",
      "content=' \\n\\nThe material of the hook is a personal preference, so you should choose one that feels most comfortable to you. Some people prefer the weight and durability of metal hooks, while others prefer the flexibility of bamboo. You can also try out different types to see which one works best for you.' additional_kwargs={} response_metadata={} id='50071ef9-067d-467a-8565-e5b4acd373f7'\n"
     ]
    }
   ],
   "source": [
    "msgs=[]\n",
    "msgs.append(HumanMessage(content=\"Hello, what is a hook in crochet?\"))\n",
    "config = {\"configurable\": {\"thread_id\": 1}}\n",
    "state = graph.invoke({\"messages\": msgs}, config=config)\n",
    "print(state[\"messages\"][-1])\n",
    "state[\"messages\"].append(HumanMessage(\"what is it usually made out of?\"))\n",
    "state = graph.invoke({\"messages\": state[\"messages\"]}, config=config)\n",
    "print(state[\"messages\"][-1])\n",
    "state[\"messages\"].append(HumanMessage(\"which material should I choose?\"))\n",
    "state = graph.invoke({\"messages\": state[\"messages\"]}, config=config)\n",
    "print(state[\"messages\"][-1])"
   ]
  },
  {
   "cell_type": "code",
   "execution_count": null,
   "metadata": {},
   "outputs": [],
   "source": []
  }
 ],
 "metadata": {
  "kernelspec": {
   "display_name": ".venv",
   "language": "python",
   "name": "python3"
  },
  "language_info": {
   "codemirror_mode": {
    "name": "ipython",
    "version": 3
   },
   "file_extension": ".py",
   "mimetype": "text/x-python",
   "name": "python",
   "nbconvert_exporter": "python",
   "pygments_lexer": "ipython3",
   "version": "3.13.0"
  }
 },
 "nbformat": 4,
 "nbformat_minor": 2
}
