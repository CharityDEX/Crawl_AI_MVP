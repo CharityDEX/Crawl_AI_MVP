{
 "cells": [
  {
   "cell_type": "code",
   "execution_count": 25,
   "metadata": {},
   "outputs": [
    {
     "data": {
      "text/plain": [
       "True"
      ]
     },
     "execution_count": 25,
     "metadata": {},
     "output_type": "execute_result"
    }
   ],
   "source": [
    "# run this cell OR next cell, not both\n",
    "\n",
    "from dotenv import load_dotenv\n",
    "load_dotenv()"
   ]
  },
  {
   "cell_type": "code",
   "execution_count": null,
   "metadata": {},
   "outputs": [],
   "source": [
    "# DO NOT COMMIT YOUR API KEY!!\n",
    "\n",
    "import os\n",
    "os.environ[\"OPENAI_API_KEY\"]=\"KEY_HERE\""
   ]
  },
  {
   "cell_type": "code",
   "execution_count": 26,
   "metadata": {},
   "outputs": [],
   "source": [
    "from langchain_core.prompts import ChatPromptTemplate, MessagesPlaceholder\n",
    "from langchain_openai import OpenAI\n",
    "from langchain_core.output_parsers.string import StrOutputParser\n",
    "\n",
    "gen_searches_sys_prompt = (\n",
    "    \"\"\"\n",
    "    You are a specialized AI Assistant helping a user create an LLM agent for them to use.\n",
    "    The user is presumably non technical. Given the user request, consider which web searches would yield\n",
    "    the most relevant information to add to the vector store of the user's new agent. Do NOT answer the\n",
    "    user's request, just create five web search queries based on it to help populate the vector store with data.\n",
    "    Make the five requests relatively varied, each of the requests will have the top website result fully scraped so\n",
    "    you should make them varied to grab a wide range of information. Output five strings of the search requests separated\n",
    "    by new lines. Do NOT preceed your answer with any tags like System: or AI:.\n",
    "\n",
    "    Here is an example (Do NOT use this directly):\n",
    "    Question:\n",
    "    Human: help me make assistant to apply to santa clara university\n",
    "    \n",
    "    Five Web Searches (separated by new lines):\n",
    "    santa clara university main website\n",
    "    \\n\n",
    "    applying to santa clara university\n",
    "    \\n\n",
    "    santa clara university application requirements\n",
    "    \\n\n",
    "    how to apply to santa clara university\n",
    "    \\n\n",
    "    santa clara university information\n",
    "\n",
    "    \\n\\n\n",
    "    Question:\n",
    "    \"\"\"\n",
    ")\n",
    "\n",
    "gen_searches_prompt = ChatPromptTemplate.from_messages(\n",
    "    [\n",
    "        (\"system\", gen_searches_sys_prompt),\n",
    "        (\"human\", \"{input}\"),\n",
    "        (\"system\", \"\\n\\nFive Web Searches (separated by new lines):\")\n",
    "    ]\n",
    ")\n",
    "\n",
    "gen_searches_llm = OpenAI()\n",
    "gen_searches_chain = gen_searches_prompt | gen_searches_llm | StrOutputParser()"
   ]
  },
  {
   "cell_type": "code",
   "execution_count": 27,
   "metadata": {},
   "outputs": [
    {
     "data": {
      "text/plain": [
       "'\\nsimple recipes for gym\\ncooking tutorial for beginners\\nhealthy recipes for gym goers\\nhow to meal prep for gym\\neasy healthy meals for fitness'"
      ]
     },
     "execution_count": 27,
     "metadata": {},
     "output_type": "execute_result"
    }
   ],
   "source": [
    "searches = gen_searches_chain.invoke(\"please help make an assistant for me that will teach me to cook simple recipes for gym\")\n",
    "searches"
   ]
  },
  {
   "cell_type": "code",
   "execution_count": 4,
   "metadata": {},
   "outputs": [],
   "source": [
    "searches = gen_searches_chain.invoke(\"i want helper for cleaning my apartment\")"
   ]
  },
  {
   "cell_type": "code",
   "execution_count": 5,
   "metadata": {},
   "outputs": [],
   "source": [
    "searches = gen_searches_chain.invoke(\"teach me to ski\")"
   ]
  },
  {
   "cell_type": "code",
   "execution_count": 28,
   "metadata": {},
   "outputs": [
    {
     "name": "stdout",
     "output_type": "stream",
     "text": [
      "Result 1: https://www.scu.edu/\n",
      "Result 2: https://www.scu.edu/\n",
      "Result 3: https://santaclarabroncos.com/\n"
     ]
    }
   ],
   "source": [
    "from googlesearch import search\n",
    "\n",
    "def get_top_google_results(query, num_results=5):\n",
    "    # Perform the search and return the top links\n",
    "    return [link for link in search(query, num_results=num_results)]\n",
    "\n",
    "# Example usage\n",
    "query = \"santa clara university\"\n",
    "top_links = get_top_google_results(query)\n",
    "for i, link in enumerate(top_links, 1):\n",
    "    print(f\"Result {i}: {link}\")"
   ]
  },
  {
   "cell_type": "code",
   "execution_count": 29,
   "metadata": {},
   "outputs": [
    {
     "data": {
      "text/plain": [
       "['simple recipes for gym',\n",
       " 'cooking tutorial for beginners',\n",
       " 'healthy recipes for gym goers',\n",
       " 'how to meal prep for gym',\n",
       " 'easy healthy meals for fitness']"
      ]
     },
     "execution_count": 29,
     "metadata": {},
     "output_type": "execute_result"
    }
   ],
   "source": [
    "lines = [line for line in searches.split('\\n') if line.strip()]\n",
    "lines"
   ]
  },
  {
   "cell_type": "code",
   "execution_count": 30,
   "metadata": {},
   "outputs": [
    {
     "data": {
      "text/plain": [
       "['https://www.myprotein.com/thezone/recipe/meal-prep-recipes-muscle-building-fat-loss/',\n",
       " 'https://www.reddit.com/r/fitmeals/comments/7sg5lz/quick_and_easy_fit_meals_that_are_actually_quick/',\n",
       " 'https://www.escoffier.edu/blog/value-of-culinary-education/learning-how-to-cook-a-guide-for-beginners/',\n",
       " 'https://www.eater.com/2020/4/3/21203517/easy-cooking-recipes-tips-tricks-roast-chicken-vegetables-rice-beans',\n",
       " 'https://fcs.tennessee.edu/wp-content/uploads/sites/23/2021/08/Cooking-Basics.pdf',\n",
       " 'https://www.youtube.com/channel/UCzyMt1XGP50JLxzJ0-pluJg',\n",
       " 'https://www.myprotein.com/thezone/recipe/meal-prep-recipes-muscle-building-fat-loss/',\n",
       " 'https://www.muscleandfitness.com/nutrition/healthy-eating/beginners-guide-meal-prepping/',\n",
       " 'https://www.myprotein.com/thezone/recipe/meal-prep-recipes-muscle-building-fat-loss/',\n",
       " 'https://www.ladies-who-lift.com/motivation/mastering-the-art-of-meal-prep',\n",
       " 'https://www.menshealth.com/uk/nutrition/a26128424/meal-preps-for-muscle-gain/',\n",
       " 'https://www.reddit.com/r/mealprep/comments/1cyhx69/meal_prep_ideas_for_muscle_gain/',\n",
       " 'https://www.myprotein.com/thezone/recipe/meal-prep-recipes-muscle-building-fat-loss/',\n",
       " 'https://www.eatingwell.com/gallery/13723/20-healthy-meals-you-can-make-in-20-minutes/']"
      ]
     },
     "execution_count": 30,
     "metadata": {},
     "output_type": "execute_result"
    }
   ],
   "source": [
    "links = []\n",
    "for line in lines:\n",
    "    links.extend(get_top_google_results(line))\n",
    "\n",
    "links"
   ]
  },
  {
   "cell_type": "code",
   "execution_count": 9,
   "metadata": {},
   "outputs": [
    {
     "name": "stdout",
     "output_type": "stream",
     "text": [
      "Department of Computer Science and Engineering - School of Engineering - Santa Clara University\n",
      "\n",
      "Skip to main content \n",
      "\n",
      "Students\n",
      "\n",
      "Faculty & Staff\n",
      "\n",
      "Families\n",
      "\n",
      "Alumni\n",
      "\n",
      "Visitors\n",
      "\n",
      "\n",
      "              Offices &\n"
     ]
    }
   ],
   "source": [
    "import re\n",
    "import lxml\n",
    "from bs4 import BeautifulSoup\n",
    "from langchain_community.document_loaders import RecursiveUrlLoader\n",
    "\n",
    "def bs4_extractor(html: str) -> str:\n",
    "    soup = BeautifulSoup(html, \"lxml\")\n",
    "    return re.sub(r\"\\n\\n+\", \"\\n\\n\", soup.text).strip()\n",
    "\n",
    "docs = []\n",
    "links = [\"https://www.scu.edu/engineering/academic-programs/department-of-computer-engineering/\"]\n",
    "for link in links:\n",
    "    loader = RecursiveUrlLoader(link, extractor=bs4_extractor, max_depth=3)\n",
    "    docs.extend(loader.load())\n",
    "    \n",
    "print(docs[0].page_content[:200])"
   ]
  },
  {
   "cell_type": "code",
   "execution_count": 10,
   "metadata": {},
   "outputs": [],
   "source": [
    "from langchain_text_splitters import RecursiveCharacterTextSplitter\n",
    "\n",
    "text_splitter = RecursiveCharacterTextSplitter(\n",
    "    chunk_size=500,\n",
    "    chunk_overlap=100\n",
    ")"
   ]
  },
  {
   "cell_type": "code",
   "execution_count": 11,
   "metadata": {},
   "outputs": [],
   "source": [
    "splits = text_splitter.split_documents(docs)"
   ]
  },
  {
   "cell_type": "code",
   "execution_count": 12,
   "metadata": {},
   "outputs": [
    {
     "data": {
      "text/plain": [
       "'AIMES Program\\nAnthropology\\nArt and Art History\\nAsian Studies Program\\nBiology\\nCatholic Studies Program\\nChemistry and Biochemistry\\nChild Studies\\nClassics\\nCommunication\\nEconomics\\nEnglish\\nEnvironmental Studies and Sciences\\nEthnic Studies\\nGender and Sexuality Studies\\nGerontology Program\\nHistory\\nIndividual Studies\\nLatin American Studies Program\\nMathematics and Computer Science\\nMedical and Health Humanities Program\\nMilitary Science\\nModern Languages and Literatures\\nMusic\\nMusical Theatre\\nNeuroscience'"
      ]
     },
     "execution_count": 12,
     "metadata": {},
     "output_type": "execute_result"
    }
   ],
   "source": [
    "splits[100].page_content"
   ]
  },
  {
   "cell_type": "code",
   "execution_count": 13,
   "metadata": {},
   "outputs": [
    {
     "data": {
      "text/plain": [
       "'text-embedding-3-small'"
      ]
     },
     "execution_count": 13,
     "metadata": {},
     "output_type": "execute_result"
    }
   ],
   "source": [
    "from langchain_openai import OpenAIEmbeddings\n",
    "\n",
    "embeddings_model = OpenAIEmbeddings(model=\"text-embedding-3-small\")\n",
    "embeddings_model.model"
   ]
  },
  {
   "cell_type": "code",
   "execution_count": 14,
   "metadata": {},
   "outputs": [
    {
     "data": {
      "text/plain": [
       "192"
      ]
     },
     "execution_count": 14,
     "metadata": {},
     "output_type": "execute_result"
    }
   ],
   "source": [
    "len(splits)"
   ]
  },
  {
   "cell_type": "code",
   "execution_count": 15,
   "metadata": {},
   "outputs": [],
   "source": [
    "from langchain_community.vectorstores.utils import filter_complex_metadata\n",
    "\n",
    "splits = filter_complex_metadata(splits)"
   ]
  },
  {
   "cell_type": "code",
   "execution_count": 16,
   "metadata": {},
   "outputs": [
    {
     "data": {
      "text/plain": [
       "192"
      ]
     },
     "execution_count": 16,
     "metadata": {},
     "output_type": "execute_result"
    }
   ],
   "source": [
    "len(splits)"
   ]
  },
  {
   "cell_type": "code",
   "execution_count": 17,
   "metadata": {},
   "outputs": [],
   "source": [
    "from langchain_chroma import Chroma\n",
    "\n",
    "vector_store = Chroma.from_documents(splits, embeddings_model)"
   ]
  },
  {
   "cell_type": "code",
   "execution_count": 18,
   "metadata": {},
   "outputs": [],
   "source": [
    "from langchain_openai import OpenAI\n",
    "\n",
    "retriever = vector_store.as_retriever(search_type=\"mmr\", search_kwargs={\"k\": 30, \"fetch_k\": 10, \"lambda_mult\": 0.5})\n",
    "rephraser_llm = OpenAI(temperature=0, model=\"gpt-4o-mini\")"
   ]
  },
  {
   "cell_type": "code",
   "execution_count": 19,
   "metadata": {},
   "outputs": [],
   "source": [
    "from langchain.chains import create_history_aware_retriever\n",
    "from langchain_core.prompts import ChatPromptTemplate, MessagesPlaceholder\n",
    "\n",
    "contextualize_q_system_prompt = (\n",
    "    \"\"\"\n",
    "    You are a specialized AI Assistant. Given a chat history and the latest user question\n",
    "    which might reference context in the chat history, \n",
    "    formulate a standalone question which can be understood \n",
    "    without the chat history. Do NOT answer the question, just \n",
    "    reformulate it if needed and otherwise return it as is.\n",
    "    Do NOT preceed your answer with any tags like System: or AI:.\n",
    "\n",
    "    Here is an example:\n",
    "    History:\n",
    "    Human: what is an LLM?\n",
    "    AI: an LLM is a large language model, a type of transformer machine learning algorithm used to interpret images and speech.\n",
    "    Question:\n",
    "    Human: how do I make it?\n",
    "    Rephrased Question:\n",
    "    How do I create an LLM transformer?\n",
    "    \\n\\n\n",
    "    History:\n",
    "    \\n\\n\n",
    "    \"\"\"\n",
    "\n",
    ")\n",
    "contextualize_q_prompt = ChatPromptTemplate.from_messages(\n",
    "    [\n",
    "        (\"system\", contextualize_q_system_prompt),\n",
    "        MessagesPlaceholder(\"chat_history\"),\n",
    "        (\"system\", \"\\n\\nQuestion:\\n\\n\"),\n",
    "        (\"human\", \"{input}\"),\n",
    "        (\"system\", \"\\n\\nRephrased Question:\\n\\n\")\n",
    "    ]\n",
    ")\n",
    "history_aware_retriever = create_history_aware_retriever(\n",
    "    rephraser_llm, retriever, contextualize_q_prompt\n",
    ")"
   ]
  },
  {
   "cell_type": "code",
   "execution_count": 20,
   "metadata": {},
   "outputs": [
    {
     "data": {
      "text/plain": [
       "0.7"
      ]
     },
     "execution_count": 20,
     "metadata": {},
     "output_type": "execute_result"
    }
   ],
   "source": [
    "from langchain.chains.combine_documents import create_stuff_documents_chain\n",
    "from langchain.chains import create_retrieval_chain\n",
    "\n",
    "sys_prompt = (\n",
    "    \"\"\"\n",
    "    You are an assistant for question-answering tasks with retrieval augmented generation.\n",
    "    Use the following pieces of retrieved context and the history of your interactions\n",
    "    with the human to answer the question. If you don't know the answer, say that you\n",
    "    don't know. Be descriptive. Do not complete or further generate the\n",
    "    user's question. Do not refer to the context or history of interaction, avoid phrases like\n",
    "    \"according to the context\" or \"from the given documents\".\n",
    "    \\n\\n\n",
    "    Context:\n",
    "    \\n\\n\n",
    "    {context}\n",
    "    \\n\\n\n",
    "    History:\n",
    "    \\n\\n\n",
    "    \"\"\"\n",
    ")\n",
    "qa_prompt = ChatPromptTemplate.from_messages(\n",
    "    [\n",
    "        (\"system\", sys_prompt),\n",
    "        MessagesPlaceholder(\"chat_history\"),\n",
    "        (\"system\", \"\\n\\nQuestion:\"),\n",
    "        (\"human\", \"{input}\"),\n",
    "        (\"system\", \"\\n\\nAnswer (Do not start your answer with AI or System):\\n\\n\")\n",
    "    ]\n",
    ")\n",
    "main_llm = OpenAI()\n",
    "question_answer_chain = create_stuff_documents_chain(main_llm, qa_prompt)\n",
    "rag_chain = create_retrieval_chain(history_aware_retriever, question_answer_chain)\n",
    "main_llm.temperature"
   ]
  },
  {
   "cell_type": "code",
   "execution_count": 21,
   "metadata": {},
   "outputs": [],
   "source": [
    "from langchain_core.messages import AIMessage, HumanMessage, SystemMessage\n",
    "\n",
    "chat_history = []\n",
    "\n",
    "def ask_question(question):\n",
    "    global chat_history\n",
    "    ai_msg = rag_chain.invoke({\"input\": question, \"chat_history\": chat_history})\n",
    "    chat_history.append(HumanMessage(content = question))\n",
    "    print(ai_msg)\n",
    "    chat_history.append(AIMessage(content = ai_msg[\"answer\"]))\n",
    "    return(ai_msg[\"answer\"])"
   ]
  },
  {
   "cell_type": "code",
   "execution_count": 22,
   "metadata": {},
   "outputs": [
    {
     "data": {
      "text/plain": [
       "[]"
      ]
     },
     "execution_count": 22,
     "metadata": {},
     "output_type": "execute_result"
    }
   ],
   "source": [
    "chat_history"
   ]
  },
  {
   "cell_type": "code",
   "execution_count": 23,
   "metadata": {},
   "outputs": [
    {
     "name": "stdout",
     "output_type": "stream",
     "text": [
      "{'input': 'what are techniques for skiing moguls?', 'chat_history': [HumanMessage(content='what are techniques for skiing moguls?', additional_kwargs={}, response_metadata={})], 'context': [Document(metadata={'content_type': 'text/html; charset=utf-8', 'description': '', 'language': 'en', 'source': 'https://www.scu.edu/engineering/academic-programs/department-of-computer-engineering/about-us/', 'title': 'About Us - School of Engineering - Santa Clara University'}, page_content='function effectively as a member or leader of a team engaged in activities appropriate to the program’s discipline\\napply computer science theory and software development fundamentals to produce computing-based solutions'), Document(metadata={'content_type': 'text/html; charset=utf-8', 'description': '', 'language': 'en', 'source': 'https://www.scu.edu/engineering/academic-programs/department-of-computer-engineering/coen-student-policies/', 'title': 'COEN Student Policies - School of Engineering - Santa Clara University'}, page_content='Must be full‐time the quarter preceding co‐op.\\nMust be an SCU student not working as a TA.\\nThe training objectives must be related to the field of study, and include learning to enhance academic knowledge, work, and learning to work with people.\\nTypically each approval is about 3 months, but can check with the associate dean for graduate studies.'), Document(metadata={'content_type': 'text/html; charset=utf-8', 'description': '', 'language': 'en', 'source': 'https://www.scu.edu/engineering/academic-programs/department-of-computer-engineering/graduate/', 'title': 'Graduate - School of Engineering - Santa Clara University'}, page_content='software design to the theory of computation.    Find which graduate program is right for you. We offer two graduate degrees: an M.S. in Computer Science and Engineering\\xa0with specialized tracks in data science, software engineering, information assurance, multimedia processing, computer networks, and computer architecture and systems;\\xa0and a Ph.D. in Computer Science and Engineering\\xa0for those interested in intensive independent research and contributing to new scholarship in the field.'), Document(metadata={'content_type': 'text/html; charset=utf-8', 'description': '', 'language': 'en', 'source': 'https://www.scu.edu/engineering/academic-programs/department-of-computer-engineering/about-us/', 'title': 'About Us - School of Engineering - Santa Clara University'}, page_content='analyze a complex computing problem and to apply principles of computing and other relevant disciplines to identify solutions\\ndesign, implement, and evaluate a computing-based solution to meet a given set of computing requirements in the context of the program’s discipline\\ncommunicate effectively in a variety of professional contexts\\nrecognize professional responsibilities and make informed judgments in computing practice based on legal and ethical principles'), Document(metadata={'content_type': 'text/html; charset=utf-8', 'description': '', 'language': 'en', 'source': 'https://www.scu.edu/engineering/academic-programs/department-of-computer-engineering/research/', 'title': 'Research - School of Engineering - Santa Clara University'}, page_content='Multimedia Visual Processing Laboratory (MVP Lab)\\nSCU Internet of Things Research Lab\\n\\n Contact Us\\nChair: Prof. Silvia Figueira\\nDepartment Manager\\xa0Pam Lin\\xa0408-554-6805\\n\\xa0\\nComputer Science and EngineeringSanta Clara University500 El Camino RealSanta Clara, CA 95053\\nSCDI Bergin, Bldg. 203\\n\\xa0\\n\\nSchool of Engineering\\n\\n500 El Camino RealSanta Clara, CA 95053(408) 554-4000\\n\\nMaps & Directions\\nContact Us\\n\\nSCU on Facebook\\n\\nSCU on Instagram\\n\\nSCU on X (formerly Twitter)\\n\\nSCU on Linkedin\\n\\nRESOURCES'), Document(metadata={'content_type': 'text/html; charset=utf-8', 'description': '', 'language': 'en', 'source': 'https://www.scu.edu/engineering/academic-programs/department-of-computer-engineering/undergraduate/', 'title': 'Undergraduate - School of Engineering - Santa Clara University'}, page_content=\"Interested in studying abroad? We'll help you with recommended course plans for your first and sophomore years.\\nA Computer Science and Engineering degree from Santa Clara will put you on track for success after graduation, whether you choose graduate studies or to work in industry.\"), Document(metadata={'content_type': 'text/html; charset=utf-8', 'description': '', 'language': 'en', 'source': 'https://www.scu.edu/engineering/academic-programs/department-of-computer-engineering/undergraduate/bsms-degree/', 'title': 'B.S./M.S. Degree - School of Engineering - Santa Clara University'}, page_content='Under the combined B.S./M.S. Program, a full-time SCU undergraduate student can begin work on courses required for a master’s degree before the B.S. degree requirements are complete, typically leading to a master’s degree within a year of obtaining the bachelor’s degree. This program is open only to students at Santa Clara University who are completing a B.S. degree in either computer science and engineering, web design and engineering, computer engineering, or computer science.'), Document(metadata={'content_type': 'text/html; charset=utf-8', 'description': '', 'language': 'en', 'source': 'https://www.scu.edu/engineering/academic-programs/department-of-computer-engineering/undergraduate/web-design-and-engineering-major/', 'title': 'Web Design and Engineering Major - School of Engineering - Santa Clara University'}, page_content='Mathematics and Natural Sciences\\n\\nMATH 11, 12, 13, 14 — Calculus and Analytic Geometry I, II, III, and IV\\nAMTH 108 — Probability and Statistics\\nNatural Science\\xa0 — Any course from the list approved by the University Core (here).\\n\\nEducational Enrichment Electives\\nSame as for the Bachelor of Science in Computer Science and Engineering.  \\n\\nDepartment of Computer Science and Engineering Sections \\nDepartment of Computer Science and Engineering'), Document(metadata={'content_type': 'text/html; charset=utf-8', 'description': '', 'language': 'en', 'source': 'https://www.scu.edu/engineering/academic-programs/department-of-computer-engineering/undergraduate/computer-science-and-engineering-major/', 'title': 'Computer Science and Engineering Major - School of Engineering - Santa Clara University'}, page_content='Mathematics and Natural Sciences\\n\\nMATH 11, 12, 13, 14 — Calculus and Analytic Geometry I, II, III, IV\\nPHYS 31, 32, 33 — Physics for Scientists and Engineers I, II, III\\nCHEM 11 — General Chemistry I\\nAMTH 106 (or MATH 22) — Differential Equations\\nAMTH 108 — Probability and Statistics\\nOne of the following:\\n\\nMATH 53 — Linear Algebra\\nCSCI 166 — Numerical Analysis\\nAMTH 118 — Numerical Methods'), Document(metadata={'content_type': 'text/html; charset=utf-8', 'description': '', 'language': 'en', 'source': 'https://www.scu.edu/engineering/academic-programs/department-of-computer-engineering/undergraduate/bsms-degree/', 'title': 'B.S./M.S. Degree - School of Engineering - Santa Clara University'}, page_content='No course can be used to simultaneously satisfy requirements in both the B.S. and M.S. degree programs. However, completion of 12 or more units of courses in computer science and engineering taken for the master’s degree will satisfy the Educational Enrichment Electives of the undergraduate program.')], 'answer': 'Off-piste skiing is a technique used for skiing moguls, which involves navigating through uneven terrain and avoiding obstacles. Another technique is to use short, sharp turns to absorb the bumps on the moguls. Skiers can also use a technique called \"zipper lining\" which involves making quick, tight turns while skiing down the fall line of the mogul. Additionally, skiers can use a technique called \"hopping\" where they use their legs to absorb the impact of the bumps and maintain control while skiing.'}\n"
     ]
    },
    {
     "data": {
      "text/plain": [
       "'Off-piste skiing is a technique used for skiing moguls, which involves navigating through uneven terrain and avoiding obstacles. Another technique is to use short, sharp turns to absorb the bumps on the moguls. Skiers can also use a technique called \"zipper lining\" which involves making quick, tight turns while skiing down the fall line of the mogul. Additionally, skiers can use a technique called \"hopping\" where they use their legs to absorb the impact of the bumps and maintain control while skiing.'"
      ]
     },
     "execution_count": 23,
     "metadata": {},
     "output_type": "execute_result"
    }
   ],
   "source": [
    "ask_question(\"what are techniques for skiing moguls?\")"
   ]
  },
  {
   "cell_type": "code",
   "execution_count": 24,
   "metadata": {},
   "outputs": [
    {
     "data": {
      "text/plain": [
       "[HumanMessage(content='what are techniques for skiing moguls?', additional_kwargs={}, response_metadata={}),\n",
       " AIMessage(content='Off-piste skiing is a technique used for skiing moguls, which involves navigating through uneven terrain and avoiding obstacles. Another technique is to use short, sharp turns to absorb the bumps on the moguls. Skiers can also use a technique called \"zipper lining\" which involves making quick, tight turns while skiing down the fall line of the mogul. Additionally, skiers can use a technique called \"hopping\" where they use their legs to absorb the impact of the bumps and maintain control while skiing.', additional_kwargs={}, response_metadata={})]"
      ]
     },
     "execution_count": 24,
     "metadata": {},
     "output_type": "execute_result"
    }
   ],
   "source": [
    "chat_history"
   ]
  }
 ],
 "metadata": {
  "kernelspec": {
   "display_name": ".venv",
   "language": "python",
   "name": "python3"
  },
  "language_info": {
   "codemirror_mode": {
    "name": "ipython",
    "version": 3
   },
   "file_extension": ".py",
   "mimetype": "text/x-python",
   "name": "python",
   "nbconvert_exporter": "python",
   "pygments_lexer": "ipython3",
   "version": "3.13.0"
  }
 },
 "nbformat": 4,
 "nbformat_minor": 2
}
