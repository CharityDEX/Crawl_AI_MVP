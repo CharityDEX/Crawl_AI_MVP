{
 "cells": [
  {
   "cell_type": "code",
   "execution_count": 3,
   "metadata": {},
   "outputs": [
    {
     "data": {
      "text/plain": [
       "'gpt-4o-mini'"
      ]
     },
     "execution_count": 3,
     "metadata": {},
     "output_type": "execute_result"
    }
   ],
   "source": [
    "from langchain_core.prompts import ChatPromptTemplate, MessagesPlaceholder\n",
    "from langchain_openai import OpenAI\n",
    "from langchain_core.output_parsers.string import StrOutputParser\n",
    "\n",
    "gen_searches_sys_prompt = (\n",
    "    \"\"\"\n",
    "    You are a specialized AI Assistant helping a user create an LLM agent for them to use.\n",
    "    The user is presumably non technical. Given the user request, consider which web searches would yield\n",
    "    the most relevant information to add to the vector store of the user's new agent. Do NOT answer the\n",
    "    user's request, just create five web search queries based on it to help populate the vector store with data.\n",
    "    Make the five requests relatively varied, each of the requests will have the top website result fully scraped so\n",
    "    you should make them varied to grab a wide range of information. Output five strings of the search requests separated\n",
    "    by new lines. Do NOT preceed your answer with any tags like System: or AI:.\n",
    "\n",
    "    Here is an example (Do NOT use this directly):\n",
    "    Question:\n",
    "    Human: help me make assistant to apply to santa clara university\n",
    "    \n",
    "    Five Web Searches (separated by new lines):\n",
    "    santa clara university main website\n",
    "    \\n\n",
    "    applying to santa clara university\n",
    "    \\n\n",
    "    santa clara university application requirements\n",
    "    \\n\n",
    "    how to apply to santa clara university\n",
    "    \\n\n",
    "    santa clara university information\n",
    "\n",
    "    \\n\\n\n",
    "    Question:\n",
    "    \"\"\"\n",
    ")\n",
    "\n",
    "gen_searches_prompt = ChatPromptTemplate.from_messages(\n",
    "    [\n",
    "        (\"system\", gen_searches_sys_prompt),\n",
    "        (\"human\", \"{input}\"),\n",
    "        (\"system\", \"\\n\\nFive Web Searches (separated by new lines):\")\n",
    "    ]\n",
    ")\n",
    "\n",
    "gen_searches_llm = OpenAI(model=\"gpt-4o-mini\")\n",
    "gen_searches_chain = gen_searches_prompt | gen_searches_llm | StrOutputParser()"
   ]
  },
  {
   "cell_type": "code",
   "execution_count": 69,
   "metadata": {},
   "outputs": [
    {
     "data": {
      "text/plain": [
       "'\\n\\nsimple recipes for gym\\ncooking for gym\\nhealthy recipes for gym\\neasy recipes for gym\\ngym meal prep recipes'"
      ]
     },
     "execution_count": 69,
     "metadata": {},
     "output_type": "execute_result"
    }
   ],
   "source": [
    "searches = gen_searches_chain.invoke(\"please help make an assistant for me that will teach me to cook simple recipes for gym\")\n",
    "searches"
   ]
  },
  {
   "cell_type": "code",
   "execution_count": 5,
   "metadata": {},
   "outputs": [],
   "source": [
    "searches = gen_searches_chain.invoke(\"i want helper for cleaning my apartment\")"
   ]
  },
  {
   "cell_type": "code",
   "execution_count": 46,
   "metadata": {},
   "outputs": [],
   "source": [
    "searches = gen_searches_chain.invoke(\"teach me to ski\")"
   ]
  },
  {
   "cell_type": "code",
   "execution_count": 70,
   "metadata": {},
   "outputs": [
    {
     "name": "stdout",
     "output_type": "stream",
     "text": [
      "Result 1: https://www.scu.edu/\n",
      "Result 2: https://www.scu.edu/\n",
      "Result 3: https://santaclarabroncos.com/\n"
     ]
    }
   ],
   "source": [
    "from googlesearch import search\n",
    "\n",
    "def get_top_google_results(query, num_results=5):\n",
    "    # Perform the search and return the top links\n",
    "    return [link for link in search(query, num_results=num_results)]\n",
    "\n",
    "# Example usage\n",
    "query = \"santa clara university\"\n",
    "top_links = get_top_google_results(query)\n",
    "for i, link in enumerate(top_links, 1):\n",
    "    print(f\"Result {i}: {link}\")"
   ]
  },
  {
   "cell_type": "code",
   "execution_count": 72,
   "metadata": {},
   "outputs": [
    {
     "data": {
      "text/plain": [
       "['simple recipes for gym',\n",
       " 'cooking for gym',\n",
       " 'healthy recipes for gym',\n",
       " 'easy recipes for gym',\n",
       " 'gym meal prep recipes']"
      ]
     },
     "execution_count": 72,
     "metadata": {},
     "output_type": "execute_result"
    }
   ],
   "source": [
    "lines = [line for line in searches.split('\\n') if line.strip()]\n",
    "lines"
   ]
  },
  {
   "cell_type": "code",
   "execution_count": 73,
   "metadata": {},
   "outputs": [
    {
     "data": {
      "text/plain": [
       "['https://www.myprotein.com/thezone/recipe/meal-prep-recipes-muscle-building-fat-loss/',\n",
       " 'https://www.reddit.com/r/fitmeals/comments/7sg5lz/quick_and_easy_fit_meals_that_are_actually_quick/',\n",
       " 'https://www.myprotein.com/thezone/recipe/meal-prep-recipes-muscle-building-fat-loss/',\n",
       " 'https://www.reddit.com/r/cookingforbeginners/comments/1dprzcq/cooking_guide_sources_for_gym_g/',\n",
       " 'https://www.menshealth.com/uk/nutrition/a26128424/meal-preps-for-muscle-gain/',\n",
       " 'https://www.youtube.com/user/fitmencook',\n",
       " 'https://www.amazon.com/You-Are-Your-Own-Gym/dp/0553395009',\n",
       " 'https://www.myprotein.com/thezone/recipe/meal-prep-recipes-muscle-building-fat-loss/',\n",
       " 'https://healthyfitnessmeals.com/blog/',\n",
       " 'https://www.myprotein.com/thezone/recipe/meal-prep-recipes-muscle-building-fat-loss/',\n",
       " 'https://healthyfitnessmeals.com/',\n",
       " 'https://www.reddit.com/r/fitmeals/comments/7sg5lz/quick_and_easy_fit_meals_that_are_actually_quick/',\n",
       " 'https://www.instagram.com/gymratrecipes/?hl=en',\n",
       " 'https://www.myprotein.com/thezone/recipe/meal-prep-recipes-muscle-building-fat-loss/',\n",
       " 'https://fitmencook.com/recipes/category/meal-prep/',\n",
       " 'https://www.reddit.com/r/mealprep/comments/1cyhx69/meal_prep_ideas_for_muscle_gain/',\n",
       " 'https://www.mealpro.net/blog/10-bodybuilding-meal-prep-recipe-ideas-build-muscle/',\n",
       " 'https://www.eatingwell.com/gallery/8043253/high-protein-simple-meal-prep-ideas/']"
      ]
     },
     "execution_count": 73,
     "metadata": {},
     "output_type": "execute_result"
    }
   ],
   "source": [
    "links = []\n",
    "for line in lines:\n",
    "    links.extend(get_top_google_results(line))\n",
    "\n",
    "links"
   ]
  },
  {
   "cell_type": "code",
   "execution_count": 74,
   "metadata": {},
   "outputs": [
    {
     "name": "stderr",
     "output_type": "stream",
     "text": [
      "/var/folders/k6/8jwtkk3109dbggpzpfzlq4r40000gn/T/ipykernel_7345/2787870348.py:6: XMLParsedAsHTMLWarning: It looks like you're parsing an XML document using an HTML parser. If this really is an HTML document (maybe it's XHTML?), you can ignore or filter this warning. If it's XML, you should know that using an XML parser will be more reliable. To parse this document as XML, make sure you have the lxml package installed, and pass the keyword argument `features=\"xml\"` into the BeautifulSoup constructor.\n",
      "  soup = BeautifulSoup(html, \"lxml\")\n",
      "/Library/Developer/CommandLineTools/Library/Frameworks/Python3.framework/Versions/3.9/lib/python3.9/html/parser.py:170: XMLParsedAsHTMLWarning: It looks like you're parsing an XML document using an HTML parser. If this really is an HTML document (maybe it's XHTML?), you can ignore or filter this warning. If it's XML, you should know that using an XML parser will be more reliable. To parse this document as XML, make sure you have the lxml package installed, and pass the keyword argument `features=\"xml\"` into the BeautifulSoup constructor.\n",
      "  k = self.parse_starttag(i)\n"
     ]
    },
    {
     "name": "stdout",
     "output_type": "stream",
     "text": [
      "57 meal prep recipes for muscle building & fat loss | Myprotein           \n",
      "\n",
      "     Skip to main content \n",
      "\n",
      "       \n",
      "✕\n",
      "      Protein    Discover Best SellersNew ProductsBundlesSamplesNew to supplements?Imp\n"
     ]
    }
   ],
   "source": [
    "import re\n",
    "from bs4 import BeautifulSoup\n",
    "from langchain_community.document_loaders import RecursiveUrlLoader\n",
    "\n",
    "def bs4_extractor(html: str) -> str:\n",
    "    soup = BeautifulSoup(html, \"lxml\")\n",
    "    return re.sub(r\"\\n\\n+\", \"\\n\\n\", soup.text).strip()\n",
    "\n",
    "docs = []\n",
    "for link in links:\n",
    "    loader = RecursiveUrlLoader(link, extractor=bs4_extractor, max_depth=3)\n",
    "    docs.extend(loader.load())\n",
    "    \n",
    "print(docs[0].page_content[:200])"
   ]
  },
  {
   "cell_type": "code",
   "execution_count": 75,
   "metadata": {},
   "outputs": [],
   "source": [
    "from langchain_text_splitters import RecursiveCharacterTextSplitter\n",
    "\n",
    "text_splitter = RecursiveCharacterTextSplitter(\n",
    "    chunk_size=500,\n",
    "    chunk_overlap=100\n",
    ")"
   ]
  },
  {
   "cell_type": "code",
   "execution_count": 76,
   "metadata": {},
   "outputs": [],
   "source": [
    "splits = text_splitter.split_documents(docs)"
   ]
  },
  {
   "cell_type": "code",
   "execution_count": 77,
   "metadata": {},
   "outputs": [
    {
     "data": {
      "text/plain": [
       "\"Searching the internet for quick and easy meals turns up all these beautiful looking meals that are sprinkled with nuts and cranberries and made with all these strange exotic ingredients, etc.\\n  \\n    And maybe it would be quick if you had a prep chef who chopped up all the ingredients for you.\\n  \\n    Last night I made a 'quick and easy' meal and it took me 3 hours and it was uber bland.\""
      ]
     },
     "execution_count": 77,
     "metadata": {},
     "output_type": "execute_result"
    }
   ],
   "source": [
    "splits[100].page_content"
   ]
  },
  {
   "cell_type": "code",
   "execution_count": 4,
   "metadata": {},
   "outputs": [
    {
     "data": {
      "text/plain": [
       "'text-embedding-3-small'"
      ]
     },
     "execution_count": 4,
     "metadata": {},
     "output_type": "execute_result"
    }
   ],
   "source": [
    "from langchain_openai import OpenAIEmbeddings\n",
    "\n",
    "embeddings_model = OpenAIEmbeddings(model=\"text-embedding-3-small\")\n",
    "embeddings_model.model"
   ]
  },
  {
   "cell_type": "code",
   "execution_count": 79,
   "metadata": {},
   "outputs": [
    {
     "data": {
      "text/plain": [
       "842"
      ]
     },
     "execution_count": 79,
     "metadata": {},
     "output_type": "execute_result"
    }
   ],
   "source": [
    "len(splits)"
   ]
  },
  {
   "cell_type": "code",
   "execution_count": 80,
   "metadata": {},
   "outputs": [],
   "source": [
    "from langchain_community.vectorstores.utils import filter_complex_metadata\n",
    "\n",
    "splits = filter_complex_metadata(splits)"
   ]
  },
  {
   "cell_type": "code",
   "execution_count": 81,
   "metadata": {},
   "outputs": [
    {
     "data": {
      "text/plain": [
       "842"
      ]
     },
     "execution_count": 81,
     "metadata": {},
     "output_type": "execute_result"
    }
   ],
   "source": [
    "len(splits)"
   ]
  },
  {
   "cell_type": "code",
   "execution_count": 82,
   "metadata": {},
   "outputs": [],
   "source": [
    "from langchain_chroma import Chroma\n",
    "\n",
    "vector_store = Chroma.from_documents(splits, embeddings_model)"
   ]
  },
  {
   "cell_type": "code",
   "execution_count": 83,
   "metadata": {},
   "outputs": [],
   "source": [
    "from langchain_openai import OpenAI\n",
    "\n",
    "retriever = vector_store.as_retriever(search_type=\"mmr\", search_kwargs={\"k\": 30, \"fetch_k\": 10, \"lambda_mult\": 0.5})\n",
    "rephraser_llm = OpenAI(temperature=0, model=\"gpt-4o-mini\")"
   ]
  },
  {
   "cell_type": "code",
   "execution_count": 84,
   "metadata": {},
   "outputs": [],
   "source": [
    "from langchain.chains import create_history_aware_retriever\n",
    "from langchain_core.prompts import ChatPromptTemplate, MessagesPlaceholder\n",
    "\n",
    "contextualize_q_system_prompt = (\n",
    "    \"\"\"\n",
    "    You are a specialized AI Assistant. Given a chat history and the latest user question\n",
    "    which might reference context in the chat history, \n",
    "    formulate a standalone question which can be understood \n",
    "    without the chat history. Do NOT answer the question, just \n",
    "    reformulate it if needed and otherwise return it as is.\n",
    "    Do NOT preceed your answer with any tags like System: or AI:.\n",
    "\n",
    "    Here is an example:\n",
    "    History:\n",
    "    Human: what is an LLM?\n",
    "    AI: an LLM is a large language model, a type of transformer machine learning algorithm used to interpret images and speech.\n",
    "    Question:\n",
    "    Human: how do I make it?\n",
    "    Rephrased Question:\n",
    "    How do I create an LLM transformer?\n",
    "    \\n\\n\n",
    "    History:\n",
    "    \\n\\n\n",
    "    \"\"\"\n",
    "\n",
    ")\n",
    "contextualize_q_prompt = ChatPromptTemplate.from_messages(\n",
    "    [\n",
    "        (\"system\", contextualize_q_system_prompt),\n",
    "        MessagesPlaceholder(\"chat_history\"),\n",
    "        (\"system\", \"\\n\\nQuestion:\\n\\n\"),\n",
    "        (\"human\", \"{input}\"),\n",
    "        (\"system\", \"\\n\\nRephrased Question:\\n\\n\")\n",
    "    ]\n",
    ")\n",
    "history_aware_retriever = create_history_aware_retriever(\n",
    "    rephraser_llm, retriever, contextualize_q_prompt\n",
    ")"
   ]
  },
  {
   "cell_type": "code",
   "execution_count": 85,
   "metadata": {},
   "outputs": [
    {
     "data": {
      "text/plain": [
       "0.7"
      ]
     },
     "execution_count": 85,
     "metadata": {},
     "output_type": "execute_result"
    }
   ],
   "source": [
    "from langchain.chains.combine_documents import create_stuff_documents_chain\n",
    "from langchain.chains import create_retrieval_chain\n",
    "\n",
    "sys_prompt = (\n",
    "    \"\"\"\n",
    "    You are an assistant for question-answering tasks with retrieval augmented generation.\n",
    "    Use the following pieces of retrieved context and the history of your interactions\n",
    "    with the human to answer the question. If you don't know the answer, say that you\n",
    "    don't know. Be descriptive. Do not complete or further generate the\n",
    "    user's question. Do not refer to the context or history of interaction, avoid phrases like\n",
    "    \"according to the context\" or \"from the given documents\".\n",
    "    \\n\\n\n",
    "    Context:\n",
    "    \\n\\n\n",
    "    {context}\n",
    "    \\n\\n\n",
    "    History:\n",
    "    \\n\\n\n",
    "    \"\"\"\n",
    ")\n",
    "qa_prompt = ChatPromptTemplate.from_messages(\n",
    "    [\n",
    "        (\"system\", sys_prompt),\n",
    "        MessagesPlaceholder(\"chat_history\"),\n",
    "        (\"system\", \"\\n\\nQuestion:\"),\n",
    "        (\"human\", \"{input}\"),\n",
    "        (\"system\", \"\\n\\nAnswer (Do not start your answer with AI or System):\\n\\n\")\n",
    "    ]\n",
    ")\n",
    "main_llm = OpenAI(model=\"gpt-4o-mini\")\n",
    "question_answer_chain = create_stuff_documents_chain(main_llm, qa_prompt)\n",
    "rag_chain = create_retrieval_chain(history_aware_retriever, question_answer_chain)\n",
    "main_llm.temperature"
   ]
  },
  {
   "cell_type": "code",
   "execution_count": 86,
   "metadata": {},
   "outputs": [],
   "source": [
    "from langchain_core.messages import AIMessage, HumanMessage, SystemMessage\n",
    "\n",
    "chat_history = []\n",
    "\n",
    "def ask_question(question):\n",
    "    global chat_history\n",
    "    ai_msg = rag_chain.invoke({\"input\": question, \"chat_history\": chat_history})\n",
    "    chat_history.append(HumanMessage(content = question))\n",
    "    print(ai_msg)\n",
    "    chat_history.append(AIMessage(content = ai_msg[\"answer\"]))\n",
    "    return(ai_msg[\"answer\"])"
   ]
  },
  {
   "cell_type": "code",
   "execution_count": 87,
   "metadata": {},
   "outputs": [
    {
     "data": {
      "text/plain": [
       "[]"
      ]
     },
     "execution_count": 87,
     "metadata": {},
     "output_type": "execute_result"
    }
   ],
   "source": [
    "chat_history"
   ]
  },
  {
   "cell_type": "code",
   "execution_count": 88,
   "metadata": {},
   "outputs": [
    {
     "name": "stdout",
     "output_type": "stream",
     "text": [
      "{'input': 'how do I prepare a sweet protein shake?', 'chat_history': [HumanMessage(content='how do I prepare a sweet protein shake?', additional_kwargs={}, response_metadata={})], 'context': [Document(metadata={'content_type': 'text/html; charset=UTF-8', 'description': 'Indulge in crafting your own single-serving protein cookie recipe, a guilt-free treat packed with high-protein ingredients!', 'language': 'en-US', 'source': 'https://fitmencook.com/recipes/protein-cookie-recipe/', 'title': 'Single Serve Protein Cookie - Fit Men Cook'}, page_content='These ingredients are combined in a mixing dish to create a sticky batter that serves as the foundation for the protein cookie. Optional extras like chocolate chips with stevia sweetness enhance the flavor even further. The secret is to get the batter to the proper consistency, making sure that it is not too moist and adding more protein powder if necessary.'), Document(metadata={'content_type': 'text/html; charset=UTF-8', 'language': 'en-US', 'source': 'https://fitmencook.com/recipes/must-try-banana-brown-rice-protein-cupcakes/', 'title': 'Banana Brown Rice Protein Cupcakes with Protein Icing - Fit Men Cook'}, page_content='When it comes to icing, you will need one scoop of chocolate protein, six tablespoons of fat-free cool whip, four ounces of cream cheese with reduced fat, and optionally, one packet of Stevia.'), Document(metadata={'content_type': 'text/html; charset=UTF-8', 'description': 'Indulge in crafting your own single-serving protein cookie recipe, a guilt-free treat packed with high-protein ingredients!', 'language': 'en-US', 'source': 'https://fitmencook.com/recipes/protein-cookie-recipe/', 'title': 'Single Serve Protein Cookie - Fit Men Cook'}, page_content='In a mixing bowl add all of the ingredients and stir until well mixed and a sticky batter forms.\\xa0 Then add in any optional items like chocolate chips, sprinkles, freeze dried fruit, etc.\\nNote: the batter should NOT be wet. If it is, add a tablespoon of protein batter to the mix.\\nUse your hands to form a ball.\\nBest practice: place the protein ball in the freezer for 5 minutes (or fridge for 10 minutes).\\xa0 This helps it become more solid so it won’t expand too quickly in the microwave.'), Document(metadata={'content_type': 'text/html; charset=UTF-8', 'description': 'Indulge in crafting your own single-serving protein cookie recipe, a guilt-free treat packed with high-protein ingredients!', 'language': 'en-US', 'source': 'https://fitmencook.com/recipes/protein-cookie-recipe/', 'title': 'Single Serve Protein Cookie - Fit Men Cook'}, page_content='In a mixing bowl add all of the ingredients and stir until well mixed and a sticky batter forms.\\xa0 Then add in any optional items like chocolate chips, sprinkles, freeze dried fruit, etc.\\nNote: the batter should NOT be wet. If it is, add a tablespoon of protein batter to the mix.\\nUse your hands to form a ball.\\nBest practice: place the protein ball in the freezer for 5 minutes (or fridge for 10 minutes).\\xa0 This helps it become more solid so it won’t expand too quickly in the microwave.'), Document(metadata={'content_type': 'text/html; charset=UTF-8', 'description': 'Delicious chunky, creamy and crunchy protein nice cream that is heavy on protein with over 30g per serving AND heavy on flavor!', 'language': 'en-US', 'source': 'https://fitmencook.com/recipes/protein-nice-cream/', 'title': 'High Protein Nice Cream - Fit Men Cook'}, page_content='How to Make This High Protein Nice Cream\\nTips to Make the Best Protein Nice Cream'), Document(metadata={'content_type': 'application/rss+xml; charset=UTF-8', 'source': 'https://fitmencook.com/recipes/category/high-carb/feed/', 'title': 'High Carb Archives - Fit Men Cook'}, page_content='How to Make This High Protein Nice Cream\\nTips to Make the Best Protein Nice Cream'), Document(metadata={'content_type': 'text/html; charset=UTF-8', 'description': 'Indulge in crafting your own single-serving protein cookie recipe, a guilt-free treat packed with high-protein ingredients!', 'language': 'en-US', 'source': 'https://fitmencook.com/recipes/protein-cookie-recipe/', 'title': 'Single Serve Protein Cookie - Fit Men Cook'}, page_content='Crafting a Single-Serve Protein Cookies Recipe'), Document(metadata={'content_type': 'text/html; charset=UTF-8', 'description': 'Use this sample meal plan to kick off your gains or losses properly and efficiently. Lean out and maximize gains with this one-month program.', 'language': 'en-US', 'source': 'https://www.muscleandfitness.com/nutrition/healthy-eating/beginner-bodybuilder-s-4-week-meal-plan/', 'title': 'The Beginner Bodybuilder’s 4-Week Meal Plan - Muscle & Fitness'}, page_content='1 cup whole grain cereal\\nWith a cup of 1% milk\\n1 cup strawberries\\n\\nChocolate protein pudding\\n\\n1 ½ scoops of whey/casein blend\\nAdd water and stir until cake batter consistency\\nMicrowave for a minute, stir and eat\\nAdd in ¼ cup crushed almonds or walnuts\\n\\nOatmeal nut butter snack\\n\\n1 cup of oatmeal\\n1 scoop of whey protein any flavor\\n1 Tbsp of natural almond butter\\nMix all together with water and cook according to package directions\\n\\nCottage cheese and muffin'), Document(metadata={'content_type': 'text/html; charset=UTF-8', 'description': 'Breakfast, lunch, and dinner when it comes to your diet it pays to plan ahead. Find out the best way to keep your diet on track by meal prepping for your macros.', 'language': 'en-US', 'source': 'https://www.muscleandfitness.com/nutrition/healthy-eating/beginners-guide-meal-prepping/', 'title': \"The Beginner's Guide to Meal Prepping - Muscle & Fitness\"}, page_content='Snacks:\\xa0\\nFresh fruit with cottage cheese (1%, no salt added) and 1⁄4 cup of mixed nuts or almonds. Or whey-protein shake blended with ice, PB2, a small banana, and almond milk.\\n\\xa0\\nTop 12 Food Prep List'), Document(metadata={'content_type': 'text/html; charset=UTF-8', 'description': 'Indulge in crafting your own single-serving protein cookie recipe, a guilt-free treat packed with high-protein ingredients!', 'language': 'en-US', 'source': 'https://fitmencook.com/recipes/protein-cookie-recipe/', 'title': 'Single Serve Protein Cookie - Fit Men Cook'}, page_content='sprinkles. Try the Strawberry Shortcake version, which uses freeze-dried strawberries and protein flavored with strawberries, for a sweet treat. With each mouthful, these inventive modifications offer distinct tastes and textures to your range of protein cookies, guaranteeing a delightful and customized dessert experience.')], 'answer': '\\nTo prepare a sweet protein shake, you will need a few key ingredients. First, you will need one scoop of chocolate protein powder, six tablespoons of almond milk, and one small banana. You can also add in optional extras like a tablespoon of PB2 or some crushed almonds for extra texture. Simply blend all of the ingredients together until smooth and enjoy!'}\n"
     ]
    },
    {
     "data": {
      "text/plain": [
       "'\\nTo prepare a sweet protein shake, you will need a few key ingredients. First, you will need one scoop of chocolate protein powder, six tablespoons of almond milk, and one small banana. You can also add in optional extras like a tablespoon of PB2 or some crushed almonds for extra texture. Simply blend all of the ingredients together until smooth and enjoy!'"
      ]
     },
     "execution_count": 88,
     "metadata": {},
     "output_type": "execute_result"
    }
   ],
   "source": [
    "ask_question(\"how do I prepare a sweet protein shake?\")"
   ]
  },
  {
   "cell_type": "code",
   "execution_count": 65,
   "metadata": {},
   "outputs": [
    {
     "data": {
      "text/plain": [
       "[HumanMessage(content='how about the Green Foundations award?', additional_kwargs={}, response_metadata={}),\n",
       " AIMessage(content='\\nAI: Yes, Santa Clara received the Green Foundations award for their pioneering work in creating water-saving systems for Africa. This project was led by the computer science department and focused on using eco-friendly neural networks.', additional_kwargs={}, response_metadata={})]"
      ]
     },
     "execution_count": 65,
     "metadata": {},
     "output_type": "execute_result"
    }
   ],
   "source": [
    "chat_history"
   ]
  }
 ],
 "metadata": {
  "kernelspec": {
   "display_name": "Python 3",
   "language": "python",
   "name": "python3"
  },
  "language_info": {
   "codemirror_mode": {
    "name": "ipython",
    "version": 3
   },
   "file_extension": ".py",
   "mimetype": "text/x-python",
   "name": "python",
   "nbconvert_exporter": "python",
   "pygments_lexer": "ipython3",
   "version": "3.9.6"
  }
 },
 "nbformat": 4,
 "nbformat_minor": 2
}
