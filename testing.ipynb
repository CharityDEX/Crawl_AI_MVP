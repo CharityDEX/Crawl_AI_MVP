{
 "cells": [
  {
   "cell_type": "code",
   "execution_count": 2,
   "metadata": {},
   "outputs": [
    {
     "name": "stderr",
     "output_type": "stream",
     "text": [
      "/Users/alex/Library/Python/3.9/lib/python/site-packages/urllib3/__init__.py:35: NotOpenSSLWarning: urllib3 v2 only supports OpenSSL 1.1.1+, currently the 'ssl' module is compiled with 'LibreSSL 2.8.3'. See: https://github.com/urllib3/urllib3/issues/3020\n",
      "  warnings.warn(\n"
     ]
    }
   ],
   "source": [
    "from langchain_core.prompts import ChatPromptTemplate, MessagesPlaceholder\n",
    "from langchain_openai import OpenAI\n",
    "from langchain_core.output_parsers.string import StrOutputParser\n",
    "\n",
    "gen_searches_sys_prompt = (\n",
    "    \"\"\"\n",
    "    You are a specialized AI Assistant helping a user create an LLM agent for them to use.\n",
    "    The user is presumably non technical. Given the user request, consider which web searches would yield\n",
    "    the most relevant information to add to the vector store of the user's new agent. Do NOT answer the\n",
    "    user's request, just create five web search queries based on it to help populate the vector store with data.\n",
    "    Make the five requests relatively varied, each of the requests will have the top website result fully scraped so\n",
    "    you should make them varied to grab a wide range of information. Output five strings of the search requests separated\n",
    "    by new lines. Do NOT preceed your answer with any tags like System: or AI:.\n",
    "\n",
    "    Here is an example (Do NOT use this directly):\n",
    "    Question:\n",
    "    Human: help me make assistant to apply to santa clara university\n",
    "    \n",
    "    Five Web Searches (separated by new lines):\n",
    "    santa clara university main website\n",
    "    \\n\n",
    "    applying to santa clara university\n",
    "    \\n\n",
    "    santa clara university application requirements\n",
    "    \\n\n",
    "    how to apply to santa clara university\n",
    "    \\n\n",
    "    santa clara university information\n",
    "\n",
    "    \\n\\n\n",
    "    Question:\n",
    "    \"\"\"\n",
    ")\n",
    "\n",
    "gen_searches_prompt = ChatPromptTemplate.from_messages(\n",
    "    [\n",
    "        (\"system\", gen_searches_sys_prompt),\n",
    "        (\"human\", \"{input}\"),\n",
    "        (\"system\", \"\\n\\nFive Web Searches (separated by new lines):\")\n",
    "    ]\n",
    ")\n",
    "\n",
    "gen_searches_llm = OpenAI()\n",
    "gen_searches_chain = gen_searches_prompt | gen_searches_llm | StrOutputParser()"
   ]
  },
  {
   "cell_type": "code",
   "execution_count": 3,
   "metadata": {},
   "outputs": [
    {
     "data": {
      "text/plain": [
       "'\\nsimple gym recipes\\n\\neasy gym meals\\n\\ncooking for fitness\\n\\nsimple recipes for workout\\n\\nhealthy and easy gym recipes'"
      ]
     },
     "execution_count": 3,
     "metadata": {},
     "output_type": "execute_result"
    }
   ],
   "source": [
    "searches = gen_searches_chain.invoke(\"please help make an assistant for me that will teach me to cook simple recipes for gym\")\n",
    "searches"
   ]
  },
  {
   "cell_type": "code",
   "execution_count": 4,
   "metadata": {},
   "outputs": [],
   "source": [
    "searches = gen_searches_chain.invoke(\"i want helper for cleaning my apartment\")"
   ]
  },
  {
   "cell_type": "code",
   "execution_count": 5,
   "metadata": {},
   "outputs": [],
   "source": [
    "searches = gen_searches_chain.invoke(\"teach me to ski\")"
   ]
  },
  {
   "cell_type": "code",
   "execution_count": 6,
   "metadata": {},
   "outputs": [
    {
     "name": "stdout",
     "output_type": "stream",
     "text": [
      "Result 1: https://www.scu.edu/\n",
      "Result 2: https://www.scu.edu/\n"
     ]
    }
   ],
   "source": [
    "from googlesearch import search\n",
    "\n",
    "def get_top_google_results(query, num_results=5):\n",
    "    # Perform the search and return the top links\n",
    "    return [link for link in search(query, num_results=num_results)]\n",
    "\n",
    "# Example usage\n",
    "query = \"santa clara university\"\n",
    "top_links = get_top_google_results(query)\n",
    "for i, link in enumerate(top_links, 1):\n",
    "    print(f\"Result {i}: {link}\")"
   ]
  },
  {
   "cell_type": "code",
   "execution_count": 7,
   "metadata": {},
   "outputs": [
    {
     "data": {
      "text/plain": [
       "['    beginner skiing tips',\n",
       " '    how to ski for beginners',\n",
       " '    ski lessons for beginners',\n",
       " '    skiing techniques for beginners',\n",
       " '    skiing for beginners tutorial']"
      ]
     },
     "execution_count": 7,
     "metadata": {},
     "output_type": "execute_result"
    }
   ],
   "source": [
    "lines = [line for line in searches.split('\\n') if line.strip()]\n",
    "lines"
   ]
  },
  {
   "cell_type": "code",
   "execution_count": 8,
   "metadata": {},
   "outputs": [
    {
     "data": {
      "text/plain": [
       "['https://www.reddit.com/r/skiing/comments/v9tl03/first_time_skiing_any_tips/',\n",
       " 'https://www.rei.com/learn/expert-advice/how-to-ski.html',\n",
       " 'https://bearfoottheory.com/beginner-ski-tips-for-adults/',\n",
       " 'https://hea-www.harvard.edu/~fine/opinions/firsttimeski.html',\n",
       " 'https://www.skimag.com/performance/top-10-tips-beginners/',\n",
       " 'https://www.reddit.com/r/skiing/comments/v9tl03/first_time_skiing_any_tips/',\n",
       " 'https://www.thesnowpros.org/take-a-lesson/beginners-guide-to-skiing/',\n",
       " 'https://www.rei.com/learn/expert-advice/how-to-ski.html',\n",
       " 'https://bearfoottheory.com/beginner-ski-tips-for-adults/',\n",
       " 'https://www.thesnowpros.org/take-a-lesson/beginners-guide-to-skiing/',\n",
       " 'https://www.northstarcalifornia.com/plan-your-trip/ski-and-ride-lessons/first-timers.aspx',\n",
       " 'https://www.reneeroaming.com/beginners-guide-to-skiing/',\n",
       " 'https://www.reddit.com/r/bayarea/comments/yy7bmu/cost_effective_option_to_learn_skiing_up_to_at/',\n",
       " 'https://www.reddit.com/r/skiing/comments/sgtd73/hey_rskiing_any_tips_for_a_beginnerintermediate/',\n",
       " 'https://www.thesnowpros.org/take-a-lesson/beginners-guide-to-skiing/',\n",
       " 'https://www.rei.com/learn/expert-advice/how-to-ski.html',\n",
       " 'https://www.wikihow.com/Ski',\n",
       " 'https://www.thesnowpros.org/take-a-lesson/beginners-guide-to-skiing/',\n",
       " 'https://www.reddit.com/r/skiing/comments/v9tl03/first_time_skiing_any_tips/',\n",
       " 'https://www.wikihow.com/Ski',\n",
       " 'https://www.skibro.com/blog/en/learn-how-to-ski-the-ultimate-beginners-guide']"
      ]
     },
     "execution_count": 8,
     "metadata": {},
     "output_type": "execute_result"
    }
   ],
   "source": [
    "links = []\n",
    "for line in lines:\n",
    "    links.extend(get_top_google_results(line))\n",
    "\n",
    "links"
   ]
  },
  {
   "cell_type": "code",
   "execution_count": 10,
   "metadata": {},
   "outputs": [
    {
     "name": "stdout",
     "output_type": "stream",
     "text": [
      "Department of Computer Science and Engineering - School of Engineering - Santa Clara University\n",
      "\n",
      "Skip to main content \n",
      "\n",
      "Students\n",
      "\n",
      "Faculty & Staff\n",
      "\n",
      "Families\n",
      "\n",
      "Alumni\n",
      "\n",
      "Visitors\n",
      "\n",
      "\n",
      "              Offices &\n"
     ]
    }
   ],
   "source": [
    "import re\n",
    "import lxml\n",
    "from bs4 import BeautifulSoup\n",
    "from langchain_community.document_loaders import RecursiveUrlLoader\n",
    "\n",
    "def bs4_extractor(html: str) -> str:\n",
    "    soup = BeautifulSoup(html, \"lxml\")\n",
    "    return re.sub(r\"\\n\\n+\", \"\\n\\n\", soup.text).strip()\n",
    "\n",
    "docs = []\n",
    "links = [\"https://www.scu.edu/engineering/academic-programs/department-of-computer-engineering/\"]\n",
    "for link in links:\n",
    "    loader = RecursiveUrlLoader(link, extractor=bs4_extractor, max_depth=3)\n",
    "    docs.extend(loader.load())\n",
    "    \n",
    "print(docs[0].page_content[:200])"
   ]
  },
  {
   "cell_type": "code",
   "execution_count": 11,
   "metadata": {},
   "outputs": [],
   "source": [
    "from langchain_text_splitters import RecursiveCharacterTextSplitter\n",
    "\n",
    "text_splitter = RecursiveCharacterTextSplitter(\n",
    "    chunk_size=500,\n",
    "    chunk_overlap=100\n",
    ")"
   ]
  },
  {
   "cell_type": "code",
   "execution_count": 12,
   "metadata": {},
   "outputs": [],
   "source": [
    "splits = text_splitter.split_documents(docs)"
   ]
  },
  {
   "cell_type": "code",
   "execution_count": 13,
   "metadata": {},
   "outputs": [
    {
     "data": {
      "text/plain": [
       "'Military Science\\nModern Languages and Literatures\\nMusic\\nMusical Theatre\\nNeuroscience\\nPhilosophy\\nPhysics\\nPolitical Science\\nPremodern Studies Program\\nPsychology\\nPublic Health\\nReligious Studies\\nSociology\\nSustainability Program\\nTheatre and Dance\\nUrban Education Program'"
      ]
     },
     "execution_count": 13,
     "metadata": {},
     "output_type": "execute_result"
    }
   ],
   "source": [
    "splits[100].page_content"
   ]
  },
  {
   "cell_type": "code",
   "execution_count": 14,
   "metadata": {},
   "outputs": [
    {
     "data": {
      "text/plain": [
       "'text-embedding-3-small'"
      ]
     },
     "execution_count": 14,
     "metadata": {},
     "output_type": "execute_result"
    }
   ],
   "source": [
    "from langchain_openai import OpenAIEmbeddings\n",
    "\n",
    "embeddings_model = OpenAIEmbeddings(model=\"text-embedding-3-small\")\n",
    "embeddings_model.model"
   ]
  },
  {
   "cell_type": "code",
   "execution_count": 15,
   "metadata": {},
   "outputs": [
    {
     "data": {
      "text/plain": [
       "205"
      ]
     },
     "execution_count": 15,
     "metadata": {},
     "output_type": "execute_result"
    }
   ],
   "source": [
    "len(splits)"
   ]
  },
  {
   "cell_type": "code",
   "execution_count": 16,
   "metadata": {},
   "outputs": [],
   "source": [
    "from langchain_community.vectorstores.utils import filter_complex_metadata\n",
    "\n",
    "splits = filter_complex_metadata(splits)"
   ]
  },
  {
   "cell_type": "code",
   "execution_count": 17,
   "metadata": {},
   "outputs": [
    {
     "data": {
      "text/plain": [
       "205"
      ]
     },
     "execution_count": 17,
     "metadata": {},
     "output_type": "execute_result"
    }
   ],
   "source": [
    "len(splits)"
   ]
  },
  {
   "cell_type": "code",
   "execution_count": 18,
   "metadata": {},
   "outputs": [],
   "source": [
    "from langchain_chroma import Chroma\n",
    "\n",
    "vector_store = Chroma.from_documents(splits, embeddings_model)"
   ]
  },
  {
   "cell_type": "code",
   "execution_count": 19,
   "metadata": {},
   "outputs": [],
   "source": [
    "from langchain_openai import OpenAI\n",
    "\n",
    "retriever = vector_store.as_retriever(search_type=\"mmr\", search_kwargs={\"k\": 30, \"fetch_k\": 10, \"lambda_mult\": 0.5})\n",
    "rephraser_llm = OpenAI(temperature=0, model=\"gpt-4o-mini\")"
   ]
  },
  {
   "cell_type": "code",
   "execution_count": 20,
   "metadata": {},
   "outputs": [],
   "source": [
    "from langchain.chains import create_history_aware_retriever\n",
    "from langchain_core.prompts import ChatPromptTemplate, MessagesPlaceholder\n",
    "\n",
    "contextualize_q_system_prompt = (\n",
    "    \"\"\"\n",
    "    You are a specialized AI Assistant. Given a chat history and the latest user question\n",
    "    which might reference context in the chat history, \n",
    "    formulate a standalone question which can be understood \n",
    "    without the chat history. Do NOT answer the question, just \n",
    "    reformulate it if needed and otherwise return it as is.\n",
    "    Do NOT preceed your answer with any tags like System: or AI:.\n",
    "\n",
    "    Here is an example:\n",
    "    History:\n",
    "    Human: what is an LLM?\n",
    "    AI: an LLM is a large language model, a type of transformer machine learning algorithm used to interpret images and speech.\n",
    "    Question:\n",
    "    Human: how do I make it?\n",
    "    Rephrased Question:\n",
    "    How do I create an LLM transformer?\n",
    "    \\n\\n\n",
    "    History:\n",
    "    \\n\\n\n",
    "    \"\"\"\n",
    "\n",
    ")\n",
    "contextualize_q_prompt = ChatPromptTemplate.from_messages(\n",
    "    [\n",
    "        (\"system\", contextualize_q_system_prompt),\n",
    "        MessagesPlaceholder(\"chat_history\"),\n",
    "        (\"system\", \"\\n\\nQuestion:\\n\\n\"),\n",
    "        (\"human\", \"{input}\"),\n",
    "        (\"system\", \"\\n\\nRephrased Question:\\n\\n\")\n",
    "    ]\n",
    ")\n",
    "history_aware_retriever = create_history_aware_retriever(\n",
    "    rephraser_llm, retriever, contextualize_q_prompt\n",
    ")"
   ]
  },
  {
   "cell_type": "code",
   "execution_count": 25,
   "metadata": {},
   "outputs": [
    {
     "data": {
      "text/plain": [
       "0.7"
      ]
     },
     "execution_count": 25,
     "metadata": {},
     "output_type": "execute_result"
    }
   ],
   "source": [
    "from langchain.chains.combine_documents import create_stuff_documents_chain\n",
    "from langchain.chains import create_retrieval_chain\n",
    "\n",
    "sys_prompt = (\n",
    "    \"\"\"\n",
    "    You are an assistant for question-answering tasks with retrieval augmented generation.\n",
    "    Use the following pieces of retrieved context and the history of your interactions\n",
    "    with the human to answer the question. If you don't know the answer, say that you\n",
    "    don't know. Be descriptive. Do not complete or further generate the\n",
    "    user's question. Do not refer to the context or history of interaction, avoid phrases like\n",
    "    \"according to the context\" or \"from the given documents\".\n",
    "    \\n\\n\n",
    "    Context:\n",
    "    \\n\\n\n",
    "    {context}\n",
    "    \\n\\n\n",
    "    History:\n",
    "    \\n\\n\n",
    "    \"\"\"\n",
    ")\n",
    "qa_prompt = ChatPromptTemplate.from_messages(\n",
    "    [\n",
    "        (\"system\", sys_prompt),\n",
    "        MessagesPlaceholder(\"chat_history\"),\n",
    "        (\"system\", \"\\n\\nQuestion:\"),\n",
    "        (\"human\", \"{input}\"),\n",
    "        (\"system\", \"\\n\\nAnswer (Do not start your answer with AI or System):\\n\\n\")\n",
    "    ]\n",
    ")\n",
    "main_llm = OpenAI()\n",
    "question_answer_chain = create_stuff_documents_chain(main_llm, qa_prompt)\n",
    "rag_chain = create_retrieval_chain(history_aware_retriever, question_answer_chain)\n",
    "main_llm.temperature"
   ]
  },
  {
   "cell_type": "code",
   "execution_count": 26,
   "metadata": {},
   "outputs": [],
   "source": [
    "from langchain_core.messages import AIMessage, HumanMessage, SystemMessage\n",
    "\n",
    "chat_history = []\n",
    "\n",
    "def ask_question(question):\n",
    "    global chat_history\n",
    "    ai_msg = rag_chain.invoke({\"input\": question, \"chat_history\": chat_history})\n",
    "    chat_history.append(HumanMessage(content = question))\n",
    "    print(ai_msg)\n",
    "    chat_history.append(AIMessage(content = ai_msg[\"answer\"]))\n",
    "    return(ai_msg[\"answer\"])"
   ]
  },
  {
   "cell_type": "code",
   "execution_count": 27,
   "metadata": {},
   "outputs": [
    {
     "data": {
      "text/plain": [
       "[]"
      ]
     },
     "execution_count": 27,
     "metadata": {},
     "output_type": "execute_result"
    }
   ],
   "source": [
    "chat_history"
   ]
  },
  {
   "cell_type": "code",
   "execution_count": 28,
   "metadata": {},
   "outputs": [
    {
     "name": "stdout",
     "output_type": "stream",
     "text": [
      "{'input': 'how do I prepare a sweet protein shake?', 'chat_history': [HumanMessage(content='how do I prepare a sweet protein shake?', additional_kwargs={}, response_metadata={})], 'context': [Document(metadata={'content_type': 'text/html; charset=utf-8', 'description': '', 'language': 'en', 'source': 'https://www.scu.edu/engineering/academic-programs/department-of-computer-engineering/research/', 'title': 'Research - School of Engineering - Santa Clara University'}, page_content=\"Dr. Weijia Shang's Research\\n\\nDr. Shang's research interests include parallel processing, computer architecture, algorithm theory, and nonlinear programming.\\n\\n \\n\\nDepartment of Computer Science and Engineering Sections \\nDepartment of Computer Science and Engineering\\n\\nDepartment of Computer Science and EngineeringAbout UsUndergraduateGraduateFaculty & StaffLaboratoriesResearch\\n\\nMultimedia Visual Processing Laboratory (MVP Lab)\\nSCU Internet of Things Research Lab\"), Document(metadata={'content_type': 'text/html; charset=utf-8', 'description': '', 'language': 'en', 'source': 'https://www.scu.edu/engineering/academic-programs/department-of-computer-engineering/laboratories/', 'title': 'Laboratories - School of Engineering - Santa Clara University'}, page_content='Laboratories - School of Engineering - Santa Clara University\\n\\nSkip to main content \\n\\nStudents\\n\\nFaculty & Staff\\n\\nFamilies\\n\\nAlumni\\n\\nVisitors\\n\\n\\r\\n              Offices & Services\\r\\n            \\n\\n\\r\\n              Schools & Centers\\r\\n            \\n\\nSanta Clara University Homepage\\n\\nSanta Clara University\\n\\nSchool of Engineering\\n\\nSearch\\n\\nmenu\\n\\nSearch\\n\\nHome\\n\\nAbout SCU\\n\\nAcademics\\n\\nAdmission\\n\\nAthletics\\n\\nCampus Life\\n\\nGiving\\n\\nGlobal\\n\\nNews & Events\\n\\nStudents\\n\\nFaculty\\n\\nFamilies\\n\\nAlumni\\n\\nVisitors'), Document(metadata={'content_type': 'text/html; charset=utf-8', 'description': '', 'language': 'en', 'source': 'https://www.scu.edu/engineering/academic-programs/department-of-computer-engineering/coen-student-policies/', 'title': 'COEN Student Policies - School of Engineering - Santa Clara University'}, page_content='COEN Student Policies - School of Engineering - Santa Clara University\\n\\nSkip to main content \\n\\nStudents\\n\\nFaculty & Staff\\n\\nFamilies\\n\\nAlumni\\n\\nVisitors\\n\\n\\r\\n              Offices & Services\\r\\n            \\n\\n\\r\\n              Schools & Centers\\r\\n            \\n\\nSanta Clara University Homepage\\n\\nSanta Clara University\\n\\nSchool of Engineering\\n\\nSearch\\n\\nmenu\\n\\nSearch\\n\\nHome\\n\\nAbout SCU\\n\\nAcademics\\n\\nAdmission\\n\\nAthletics\\n\\nCampus Life\\n\\nGiving\\n\\nGlobal\\n\\nNews & Events\\n\\nStudents\\n\\nFaculty\\n\\nFamilies\\n\\nAlumni\\n\\nVisitors'), Document(metadata={'content_type': 'text/html; charset=utf-8', 'description': '', 'language': 'en', 'source': 'https://www.scu.edu/engineering/academic-programs/department-of-computer-engineering/undergraduate/web-design-and-engineering-major/', 'title': 'Web Design and Engineering Major - School of Engineering - Santa Clara University'}, page_content='Collaboration Makes It HappenBioengineering and Web Design and Engineering seniors teamed up to help expectant mothers in remote regions get the healthcare screening they need with their device, MUMS: Mobile Urinalysis for Maternal Screening.'), Document(metadata={'content_type': 'text/html; charset=utf-8', 'description': '', 'language': 'en', 'source': 'https://www.scu.edu/engineering/academic-programs/department-of-computer-engineering/research/', 'title': 'Research - School of Engineering - Santa Clara University'}, page_content='Research - School of Engineering - Santa Clara University\\n\\nSkip to main content \\n\\nStudents\\n\\nFaculty & Staff\\n\\nFamilies\\n\\nAlumni\\n\\nVisitors\\n\\n\\r\\n              Offices & Services\\r\\n            \\n\\n\\r\\n              Schools & Centers\\r\\n            \\n\\nSanta Clara University Homepage\\n\\nSanta Clara University\\n\\nSchool of Engineering\\n\\nSearch\\n\\nmenu\\n\\nSearch\\n\\nHome\\n\\nAbout SCU\\n\\nAcademics\\n\\nAdmission\\n\\nAthletics\\n\\nCampus Life\\n\\nGiving\\n\\nGlobal\\n\\nNews & Events\\n\\nStudents\\n\\nFaculty\\n\\nFamilies\\n\\nAlumni\\n\\nVisitors\\n\\nOffices & Services'), Document(metadata={'content_type': 'text/html; charset=utf-8', 'description': '', 'language': 'en', 'source': 'https://www.scu.edu/engineering/academic-programs/department-of-computer-engineering/undergraduate/web-design-and-engineering-major/', 'title': 'Web Design and Engineering Major - School of Engineering - Santa Clara University'}, page_content='Web Design and Engineering students, Amanda Holl, Tracey Acosta, and Paige Rogalski, pose with faculty advisor, Darren Atkinson after winning their 2015 Senior Design session for their project \"Code Girl,\" a web-based application that allows girls aged 5 to 8 to create their own avatar doll and unlock accessories by successfully completing challenges using a visual coding editor.'), Document(metadata={'content_type': 'text/html; charset=utf-8', 'description': '', 'language': 'en', 'source': 'https://www.scu.edu/engineering/academic-programs/department-of-computer-engineering/undergraduate/', 'title': 'Undergraduate - School of Engineering - Santa Clara University'}, page_content=\"Interested in studying abroad? We'll help you with recommended course plans for your first and sophomore years.\\nA Computer Science and Engineering degree from Santa Clara will put you on track for success after graduation, whether you choose graduate studies or to work in industry.\"), Document(metadata={'content_type': 'text/html; charset=utf-8', 'description': '', 'language': 'en', 'source': 'https://www.scu.edu/engineering/academic-programs/department-of-computer-engineering/undergraduate/', 'title': 'Undergraduate - School of Engineering - Santa Clara University'}, page_content='Undergraduate - School of Engineering - Santa Clara University\\n\\nSkip to main content \\n\\nStudents\\n\\nFaculty & Staff\\n\\nFamilies\\n\\nAlumni\\n\\nVisitors\\n\\n\\r\\n              Offices & Services\\r\\n            \\n\\n\\r\\n              Schools & Centers\\r\\n            \\n\\nSanta Clara University Homepage\\n\\nSanta Clara University\\n\\nSchool of Engineering\\n\\nSearch\\n\\nmenu\\n\\nSearch\\n\\nHome\\n\\nAbout SCU\\n\\nAcademics\\n\\nAdmission\\n\\nAthletics\\n\\nCampus Life\\n\\nGiving\\n\\nGlobal\\n\\nNews & Events\\n\\nStudents\\n\\nFaculty\\n\\nFamilies\\n\\nAlumni\\n\\nVisitors'), Document(metadata={'content_type': 'text/html; charset=utf-8', 'description': '', 'language': 'en', 'source': 'https://www.scu.edu/engineering/academic-programs/department-of-computer-engineering/undergraduate/', 'title': 'Undergraduate - School of Engineering - Santa Clara University'}, page_content='GraduateFaculty & StaffLaboratoriesResearch\\n\\n Contact Us\\nChair: Prof. Silvia Figueira\\nDepartment Manager\\xa0Pam Lin\\xa0408-554-6805\\n\\xa0\\nComputer Science and EngineeringSanta Clara University500 El Camino RealSanta Clara, CA 95053\\nSCDI Bergin, Bldg. 203\\n\\xa0\\nCurrent Student Resources\\n\\nQuick Links\\n\\nCross-Listed Courses\\nCourse Plans\\nBSCSE Prerequisite Sequences\\nBSWDE Prerequisite Sequences\\nUndergraduate Thesis Submission Guidelines'), Document(metadata={'content_type': 'text/html; charset=utf-8', 'description': '', 'language': 'en', 'source': 'https://www.scu.edu/engineering/academic-programs/department-of-computer-engineering/graduate/', 'title': 'Graduate - School of Engineering - Santa Clara University'}, page_content='Faculty & StaffLaboratoriesResearch\\n\\n Contact Us\\nChair: Prof. Silvia Figueira\\nDepartment Manager\\xa0Pam Lin\\xa0408-554-6805\\n\\xa0\\nComputer Science and EngineeringSanta Clara University500 El Camino RealSanta Clara, CA 95053\\nSCDI Bergin, Bldg. 203\\n\\xa0\\n\\nQuick Link\\n\\xa0Graduate Thesis Submission Guidelines\\n\\nContact Graduate Engineering\\nApply Now\\n\\nSchool of Engineering\\n\\n500 El Camino RealSanta Clara, CA 95053(408) 554-4000\\n\\nMaps & Directions\\nContact Us\\n\\nSCU on Facebook\\n\\nSCU on Instagram')], 'answer': '\\nTo prepare a sweet protein shake, you will need protein powder, milk or milk alternative, a sweetener of your choice (such as honey, agave nectar, or stevia), and any additional flavorings (such as cocoa powder or fruit). \\n1. Start by adding a scoop of protein powder into a blender.\\n2. Next, pour in your desired amount of milk or milk alternative. You can adjust the amount depending on how thick you want your shake to be.\\n3. Add in your chosen sweetener, starting with a small amount and adjusting to taste.\\n4. If desired, add in any additional flavorings.\\n5. Blend all ingredients together until smooth.\\n6. Pour into a glass and enjoy your sweet protein shake!'}\n"
     ]
    },
    {
     "data": {
      "text/plain": [
       "'\\nTo prepare a sweet protein shake, you will need protein powder, milk or milk alternative, a sweetener of your choice (such as honey, agave nectar, or stevia), and any additional flavorings (such as cocoa powder or fruit). \\n1. Start by adding a scoop of protein powder into a blender.\\n2. Next, pour in your desired amount of milk or milk alternative. You can adjust the amount depending on how thick you want your shake to be.\\n3. Add in your chosen sweetener, starting with a small amount and adjusting to taste.\\n4. If desired, add in any additional flavorings.\\n5. Blend all ingredients together until smooth.\\n6. Pour into a glass and enjoy your sweet protein shake!'"
      ]
     },
     "execution_count": 28,
     "metadata": {},
     "output_type": "execute_result"
    }
   ],
   "source": [
    "ask_question(\"how do I prepare a sweet protein shake?\")"
   ]
  },
  {
   "cell_type": "code",
   "execution_count": 29,
   "metadata": {},
   "outputs": [
    {
     "data": {
      "text/plain": [
       "[HumanMessage(content='how do I prepare a sweet protein shake?', additional_kwargs={}, response_metadata={}),\n",
       " AIMessage(content='\\nTo prepare a sweet protein shake, you will need protein powder, milk or milk alternative, a sweetener of your choice (such as honey, agave nectar, or stevia), and any additional flavorings (such as cocoa powder or fruit). \\n1. Start by adding a scoop of protein powder into a blender.\\n2. Next, pour in your desired amount of milk or milk alternative. You can adjust the amount depending on how thick you want your shake to be.\\n3. Add in your chosen sweetener, starting with a small amount and adjusting to taste.\\n4. If desired, add in any additional flavorings.\\n5. Blend all ingredients together until smooth.\\n6. Pour into a glass and enjoy your sweet protein shake!', additional_kwargs={}, response_metadata={})]"
      ]
     },
     "execution_count": 29,
     "metadata": {},
     "output_type": "execute_result"
    }
   ],
   "source": [
    "chat_history"
   ]
  }
 ],
 "metadata": {
  "kernelspec": {
   "display_name": ".venv",
   "language": "python",
   "name": "python3"
  },
  "language_info": {
   "codemirror_mode": {
    "name": "ipython",
    "version": 3
   },
   "file_extension": ".py",
   "mimetype": "text/x-python",
   "name": "python",
   "nbconvert_exporter": "python",
   "pygments_lexer": "ipython3",
   "version": "3.9.6"
  }
 },
 "nbformat": 4,
 "nbformat_minor": 2
}
